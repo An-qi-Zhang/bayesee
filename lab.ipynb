{
 "cells": [
  {
   "cell_type": "code",
   "execution_count": 1,
   "metadata": {},
   "outputs": [],
   "source": [
    "import os\n",
    "from pathlib import Path\n",
    "from numba import njit, prange\n",
    "import numpy as np\n",
    "import math\n",
    "from scipy.stats import norm\n",
    "from pprint import pprint as pp\n",
    "from matplotlib.pyplot import *\n",
    "%matplotlib inline"
   ]
  },
  {
   "cell_type": "code",
   "execution_count": 2,
   "metadata": {},
   "outputs": [],
   "source": [
    "#%%\n",
    "from detector.spotter import Spotter\n",
    "from imaging.filter import *\n",
    "from imaging.image import *\n",
    "from operation.nb2d import *\n",
    "\n",
    "row = col = 128\n",
    "ppd = 120\n",
    "cpd = 1.5\n",
    "cpi_v = row * cpd / ppd\n",
    "field_ratio = 8\n",
    "\n",
    "rc_target = hann_window(row, col, row/2)\n",
    "rc_target /= nb2dot(rc_target, rc_target)\n",
    "\n",
    "sine_target = hann_window(row, col, row/2) * sine_wave(row, col, (cpi_v,0))\n",
    "sine_target /= nb2dot(sine_target, sine_target)\n",
    "\n",
    "tri_target = hann_window(row, col, row/2) * sine_triangle_wave(row, col, (cpi_v, 0))\n",
    "tri_target /= nb2dot(tri_target, tri_target)\n",
    "\n",
    "sqr_target = hann_window(row, col, row/2) * sine_square_wave(row, col, (cpi_v, 0))\n",
    "sqr_target /= nb2dot(sqr_target, sqr_target)\n",
    "\n",
    "weighting_matrix = luminance_modulate_lr(np.ones((row,col)), 4, flip=True)\n",
    "TM = Spotter(method='TM')\n",
    "WTM = Spotter(method='WTM', whiten=1)\n",
    "RTM = Spotter(method='RTM', weight=weighting_matrix)\n",
    "WRTM = Spotter(method='WRTM', whiten=1, weight=weighting_matrix)\n",
    "RWTM = Spotter(method='RWTM', whiten=1, weight=weighting_matrix)"
   ]
  },
  {
   "cell_type": "code",
   "execution_count": 6,
   "metadata": {},
   "outputs": [
    {
     "data": {
      "text/plain": [
       "-0.21421127143025143"
      ]
     },
     "execution_count": 6,
     "metadata": {},
     "output_type": "execute_result"
    }
   ],
   "source": [
    "images, field = power_noise_patches(row, col, row*field_ratio, col*field_ratio, -1, 1000)\n",
    "TM.give_response(images[:,:,30], rc_target)"
   ]
  }
 ],
 "metadata": {
  "interpreter": {
   "hash": "0333cc3dca2225e509c7fded360f890b97b95aebac66517c433d6552342e3f5e"
  },
  "kernelspec": {
   "display_name": "Python 3.9.5 ('base')",
   "language": "python",
   "name": "python3"
  },
  "language_info": {
   "codemirror_mode": {
    "name": "ipython",
    "version": 3
   },
   "file_extension": ".py",
   "mimetype": "text/x-python",
   "name": "python",
   "nbconvert_exporter": "python",
   "pygments_lexer": "ipython3",
   "version": "3.9.5"
  },
  "orig_nbformat": 4
 },
 "nbformat": 4,
 "nbformat_minor": 2
}
