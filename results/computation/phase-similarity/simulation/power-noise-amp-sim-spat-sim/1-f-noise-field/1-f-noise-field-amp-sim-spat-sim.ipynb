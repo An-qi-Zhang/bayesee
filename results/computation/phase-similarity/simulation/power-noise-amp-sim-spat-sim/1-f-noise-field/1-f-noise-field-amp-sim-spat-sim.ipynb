{
 "cells": [
  {
   "cell_type": "code",
   "execution_count": 1,
   "metadata": {},
   "outputs": [],
   "source": [
    "# standard libraries\n",
    "import numpy as np\n",
    "import math\n",
    "from pprint import pprint as pp\n",
    "from matplotlib.pyplot import *\n",
    "from matplotlib.colors import LogNorm\n",
    "%matplotlib inline"
   ]
  },
  {
   "cell_type": "code",
   "execution_count": 2,
   "metadata": {},
   "outputs": [],
   "source": [
    "# user library\n",
    "from bayesee.imaging.filter import *\n",
    "from bayesee.imaging.image import *\n",
    "from bayesee.operation.nb2d import *\n",
    "from bayesee.operation.dp import *\n",
    "from bayesee.operation.mathfunc import *"
   ]
  },
  {
   "cell_type": "code",
   "execution_count": 3,
   "metadata": {},
   "outputs": [],
   "source": [
    "# stimulus parameters\n",
    "row = col = 128\n",
    "ppd = 120\n",
    "cpd = 4\n",
    "cpi_v = row * cpd / ppd\n",
    "field_ratio = 8"
   ]
  },
  {
   "cell_type": "code",
   "execution_count": 4,
   "metadata": {},
   "outputs": [],
   "source": [
    "# simulation parameters\n",
    "n_background = 100000\n",
    "background_mean = 0\n",
    "background_std = 1"
   ]
  },
  {
   "cell_type": "code",
   "execution_count": 5,
   "metadata": {},
   "outputs": [],
   "source": [
    "# templates\n",
    "rc_template = hann_window(row, col, row/2)\n",
    "# rc_template -= rc_template.mean()\n",
    "rc_template /= nb2dot(rc_template, rc_template)\n",
    "\n",
    "sine_template = hann_window(row, col, row/2) * sine_wave(row, col, (cpi_v,0))\n",
    "sine_template /= nb2dot(sine_template, sine_template)\n",
    "\n",
    "plaid_template = sine_template * hann_window(row, col, row/2) * sine_wave(row, col, (0, cpi_v))\n",
    "plaid_template /= nb2dot(plaid_template, plaid_template)"
   ]
  },
  {
   "cell_type": "code",
   "execution_count": 6,
   "metadata": {},
   "outputs": [],
   "source": [
    "# backgrounds\n",
    "one_f_0_noise,_ = power_noise_patches(row, col, row*field_ratio, col*field_ratio, 0, n_background, background_mean, background_std)\n",
    "one_f_p5_noise,_ = power_noise_patches(row, col, row*field_ratio, col*field_ratio, -0.5, n_background, background_mean, background_std)\n",
    "one_f_noise,_ = power_noise_patches(row, col, row*field_ratio, col*field_ratio, -1, n_background, background_mean, background_std)\n",
    "one_f_2_noise,_ = power_noise_patches(row, col, row*field_ratio, col*field_ratio, -2, n_background, background_mean, background_std)\n",
    "one_f_5_noise,_ = power_noise_patches(row, col, row*field_ratio, col*field_ratio, -5, n_background, background_mean, background_std)"
   ]
  },
  {
   "cell_type": "code",
   "execution_count": null,
   "metadata": {},
   "outputs": [],
   "source": [
    "# window\n",
    "hann = flat_top_hann_window(row, col, [0.45 * row, 0.5 * row])"
   ]
  },
  {
   "cell_type": "code",
   "execution_count": null,
   "metadata": {},
   "outputs": [],
   "source": [
    "# simulation function\n",
    "def amp_sim_spat_sim(template, images, window):\n",
    "    n_background = images.shape[2]\n",
    "    spat_sim = np.zeros((n_background,))\n",
    "    amp_sim = np.zeros((n_background,))\n",
    "    \n",
    "    for i in range(n_background):\n",
    "        background = images[:,:,i]\n",
    "        spat_sim[i] = spatial_cosine_similarity(template, background, window)\n",
    "        amp_sim[i] = amplitude_cosine_similarity(template, background, window)\n",
    "            \n",
    "    return spat_sim, amp_sim"
   ]
  },
  {
   "cell_type": "code",
   "execution_count": null,
   "metadata": {},
   "outputs": [],
   "source": [
    "# simulation\n",
    "templates = [rc_template, sine_template, plaid_template]\n",
    "backgrounds = [one_f_0_noise, one_f_p5_noise, one_f_noise, one_f_2_noise, one_f_5_noise]\n",
    "\n",
    "spat_sim_all = np.zeros((len(templates), len(backgrounds), n_background))\n",
    "amp_sim_all = np.zeros_like(spat_sim_all)\n",
    "\n",
    "for t, template in enumerate(templates):\n",
    "    for b, background in enumerate(backgrounds):\n",
    "        spat_sim_all[t,b,:], amp_sim_all[t,b,:] = amp_sim_spat_sim(template, background, hann)\n",
    "        \n",
    "np.savez('1-f-noise-field-spat-sim-amp-sim', spat_sim_all=spat_sim_all, amp_sim_all=amp_sim_all)"
   ]
  },
  {
   "cell_type": "code",
   "execution_count": null,
   "metadata": {},
   "outputs": [],
   "source": [
    "# plot function\n",
    "def plot_spat_sim_amp_sim(spat_sim_all, amp_sim_all, pargs):\n",
    "    n_templates, n_backgrounds, _ = spat_sim_all.shape\n",
    "    n_rows, n_cols = pargs['n_rows'], pargs['n_cols']\n",
    "    fig, axs = subplots(nrows=n_rows, ncols=n_cols, figsize=pargs['figsize'], constrained_layout=True)\n",
    "    \n",
    "    for t in range(n_templates):\n",
    "        x_max = np.abs(spat_sim_all[t,:,:]).max()\n",
    "        y_max = amp_sim_all[t,:,:].max() * 1.2\n",
    "        for b in range(n_backgrounds):\n",
    "    \n",
    "            if n_templates == 1 or n_backgrounds == 1:\n",
    "                idxes = b if n_templates == 1 else t\n",
    "            else:\n",
    "                idxes = t, b\n",
    "            \n",
    "            h2d = axs[idxes].hist2d(spat_sim_all[t,b,:], amp_sim_all[t,b,:], bins=50, cmap=cm.get_cmap('gray').reversed(), alpha=1, range=[[-x_max, x_max], [0,y_max]], edgecolors='none', norm=LogNorm(clip=True))\n",
    "            axs[idxes].text(0.5,0.9,pargs['legends'][t][b], transform=axs[idxes].transAxes, c='k')\n",
    "            # axs[idxes].scatter(spat_sim_all[t,b,:], amp_sim_all[t,b,:], s=pargs['markersize'], marker=pargs['markers'][t], edgecolor=pargs['colors'][t], facecolor=pargs['colors'][t], linewidths=pargs['linewidth'], label=pargs['legends'][t][b], alpha=1)\n",
    "            # axs[idxes].legend(loc='upper right', fontsize=pargs['fontsizes'][1])\n",
    "            axs[idxes].set_xlim(-x_max, x_max)\n",
    "            axs[idxes].set_ylim(0,y_max)\n",
    "        \n",
    "            axs[idxes].tick_params(axis='x', which='both', direction='out', length=0, width=0,pad=5, labelsize=pargs['fontsizes'][2], labelbottom=True, labeltop=False, grid_color='k', grid_alpha=1, grid_linewidth=1, grid_linestyle='--')\n",
    "            axs[idxes].grid(visible=True, which='minor', axis='x', linestyle='--', linewidth=pargs['linewidth'])\n",
    "            axs[idxes].tick_params(axis='y', which='major', direction='out', length=12, width=4, pad=3, labelsize=pargs['fontsizes'][2], left=True, right=True, labelleft=True, labelright=True)\n",
    "            axs[idxes].tick_params(axis='y', which='minor', direction='out', length=8, width=4, left=True, right=True, labelleft=False, labelright=False)\n",
    "\n",
    "    fig.colorbar(h2d[3], cax=axes([1, 0, 0.025, 1]), orientation='vertical', label='Count')\n",
    "    fig.text(0.5, -0.075, pargs['x_label'], ha='center', fontsize=pargs['fontsizes'][0])\n",
    "    fig.text(-0.05, 0.5, pargs['y_label'], va='center', rotation='vertical', fontsize=pargs['fontsizes'][0])\n",
    "    savefig('stats_spat_sim_amp_sim_' + pargs['plot_name'] + '.svg', dpi=300, bbox_inches='tight')\n",
    "    close()"
   ]
  },
  {
   "cell_type": "code",
   "execution_count": null,
   "metadata": {},
   "outputs": [],
   "source": [
    "# plot\n",
    "data = np.load('1-f-noise-field-spat-sim-amp-sim.npz')\n",
    "spat_sim_all, amp_sim_all = data['spat_sim_all'], data['amp_sim_all']\n",
    "n_row = spat_sim_all.shape[0]\n",
    "n_col = spat_sim_all.shape[1]\n",
    "pargs = {'plot_name': '1_f_noise_field', 'figsize': (16, 8), 'n_rows': n_row, 'n_cols': n_col, 'fontsizes': [36, 15, 12], 'x_label': 'Spatial Cosine Similarity', 'y_label': 'Amplitude Cosine Similarity', 'legends': [['rc | white', 'rc | 1/f^0.5', 'rc | 1/f', 'rc | 1/f^2', 'rc | 1/f^5'], ['sine | white', 'sine | 1/f^0.5', 'sine | 1/f', 'sine | 1/f^2', 'sine | 1/f^5'], ['plaid | white', 'plaid | 1/f^0.5', 'plaid | 1/f', 'plaid | 1/f^2', 'plaid | 1/f^5']], 'markers': ['.', '.', '.', '.'], 'colors': ['k', 'k', 'k', 'k'], 'markersize': 1, 'linewidth': 1}\n",
    "\n",
    "plot_spat_sim_amp_sim(spat_sim_all, amp_sim_all, pargs)"
   ]
  },
  {
   "cell_type": "code",
   "execution_count": null,
   "metadata": {},
   "outputs": [],
   "source": []
  }
 ],
 "metadata": {
  "kernelspec": {
   "display_name": "Python 3.10.4 ('gpu-bayesee')",
   "language": "python",
   "name": "python3"
  },
  "language_info": {
   "codemirror_mode": {
    "name": "ipython",
    "version": 3
   },
   "file_extension": ".py",
   "mimetype": "text/x-python",
   "name": "python",
   "nbconvert_exporter": "python",
   "pygments_lexer": "ipython3",
   "version": "3.10.4"
  },
  "orig_nbformat": 4,
  "vscode": {
   "interpreter": {
    "hash": "cdc6791e7efb8b2c509ab860fa200884e726e855328caba8b31c0d9c15abe09d"
   }
  }
 },
 "nbformat": 4,
 "nbformat_minor": 2
}
