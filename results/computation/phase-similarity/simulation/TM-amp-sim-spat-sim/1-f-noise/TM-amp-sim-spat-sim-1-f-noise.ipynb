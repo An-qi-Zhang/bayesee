{
 "cells": [
  {
   "cell_type": "code",
   "execution_count": null,
   "metadata": {},
   "outputs": [],
   "source": [
    "# standard libraries\n",
    "import numpy as np\n",
    "import math\n",
    "from pprint import pprint as pp\n",
    "from matplotlib.pyplot import *\n",
    "%matplotlib inline"
   ]
  },
  {
   "cell_type": "code",
   "execution_count": null,
   "metadata": {},
   "outputs": [],
   "source": [
    "# user library\n",
    "from bayesee.detector.spotter import Spotter\n",
    "from bayesee.imaging.filter import *\n",
    "from bayesee.imaging.image import *\n",
    "from bayesee.operation.nb2d import *\n",
    "from bayesee.operation.dp import *\n",
    "from bayesee.operation.mathfunc import *"
   ]
  },
  {
   "cell_type": "code",
   "execution_count": null,
   "metadata": {},
   "outputs": [],
   "source": [
    "# stimulus parameters\n",
    "row = col = 128\n",
    "ppd = 60\n",
    "cpd = 1.5\n",
    "cpi_v = row * cpd / ppd"
   ]
  },
  {
   "cell_type": "code",
   "execution_count": null,
   "metadata": {},
   "outputs": [],
   "source": [
    "# simulation parameters\n",
    "n_bin_spat_sim = 3\n",
    "n_bin_amp_sim = 3\n",
    "n_bin_background = 500\n",
    "n_background = n_bin_background * n_bin_amp_sim * n_bin_spat_sim\n",
    "background_mean = 128\n",
    "background_std = 128 * 0.204"
   ]
  },
  {
   "cell_type": "code",
   "execution_count": null,
   "metadata": {},
   "outputs": [],
   "source": [
    "# templates\n",
    "sine_template = hann_window(row, col, row/2) * sine_wave(row, col, (cpi_v,0))\n",
    "sine_template /= nb2dot(sine_template, sine_template)"
   ]
  },
  {
   "cell_type": "code",
   "execution_count": null,
   "metadata": {},
   "outputs": [],
   "source": [
    "# backgrounds\n",
    "uni_images = np.zeros((row, col, n_background))\n",
    "cm_images = np.zeros((row, col, n_background))\n",
    "\n",
    "for i in range(n_background):\n",
    "    uni_images[:,:,i] = power_noise(row, col, -1, background_mean, background_std)\n",
    "    cm_images[:,:,i] = contrast_modulate_lr(power_noise(row, col, -1, background_mean, background_std), 4)"
   ]
  },
  {
   "cell_type": "code",
   "execution_count": null,
   "metadata": {},
   "outputs": [],
   "source": [
    "# spotters\n",
    "TM = Spotter(method='TM')"
   ]
  },
  {
   "cell_type": "code",
   "execution_count": null,
   "metadata": {},
   "outputs": [],
   "source": [
    "# simulation function\n",
    "def detection_1_f_noise(model, template, background, amp_init):\n",
    "    amp = np.ones((n_background*2,)) * amp_init\n",
    "    stimulus = np.zeros_like(amp)\n",
    "    response = np.zeros_like(amp)\n",
    "    spat_sim = np.zeros_like(amp)\n",
    "    amp_sim = np.zeros_like(amp)\n",
    "    \n",
    "    for i in range(n_background):\n",
    "        stimulus[2*i] = 0\n",
    "        response[2*i] = model.give_response(background[:,:,i], template)\n",
    "        stimulus[2*i+1] = 1\n",
    "        response[2*i+1] = model.give_response(add_to_center(background[:,:,i], amp_init*template), template)\n",
    "        spat_sim[2*i] = spat_sim[2*i+1] = spatial_similarity(background[:,:,i], template)\n",
    "        amp_sim[2*i] = amp_sim[2*i+1] = amplitude_similarity(background[:,:,i], template)\n",
    "            \n",
    "    return amp, stimulus, response, spat_sim, amp_sim"
   ]
  },
  {
   "cell_type": "code",
   "execution_count": null,
   "metadata": {},
   "outputs": [],
   "source": [
    "# simulation\n",
    "templates = [sine_template]\n",
    "backgrounds = [uni_images, cm_images]\n",
    "models = [TM]\n",
    "amp_init = 0.001\n",
    "\n",
    "amp_all = np.zeros((len(templates), len(backgrounds), len(models), n_background * 2))\n",
    "stimulus_all = np.zeros_like(amp_all)\n",
    "response_all = np.zeros_like(amp_all)\n",
    "amp_sim_all = np.zeros_like(amp_all)\n",
    "spat_sim_all = np.zeros_like(amp_all)\n",
    "\n",
    "for t, template in enumerate(templates):\n",
    "    for b, background in enumerate(backgrounds):\n",
    "        amp_all[t,b,0,:], stimulus_all[t,b,0,:], response_all[t,b,0,:], spat_sim_all[t,b,0,:], amp_sim_all[t,b,0,:] = detection_1_f_noise(TM, template, background, amp_init)\n",
    "        \n",
    "np.savez('TM-spat-sim-amp-sim-1-f-noise', amp_all=amp_all, stimulus_all=stimulus_all, response_all=response_all, spat_sim_all=spat_sim_all, amp_sim_all=amp_sim_all)"
   ]
  },
  {
   "cell_type": "code",
   "execution_count": null,
   "metadata": {},
   "outputs": [],
   "source": [
    "# calculate dp\n",
    "bin_all = np.zeros_like(amp_all)\n",
    "dp_all = np.zeros_like(amp_all)\n",
    "for t, template in enumerate(templates):\n",
    "    for b, background in enumerate(backgrounds):\n",
    "        for i in range(n_bin_spat_sim):\n",
    "            for j in range(n_bin_amp_sim):\n",
    "                #should/2d-binning\n",
    "                bin_idx = bin_all\n",
    "                bin_amp, bin_stimulus, bin_response = amp_all[t,b,0,bin_idx], stimulus_all[t,b,0,bin_idx], response_all[t,b,0,bin_idx]\n",
    "                dp_all[t,b,0,bin_idx], _ = glm_cont(bin_amp, bin_stimulus, bin_response)"
   ]
  },
  {
   "cell_type": "code",
   "execution_count": null,
   "metadata": {},
   "outputs": [],
   "source": [
    "# plot function\n",
    "def plot_double_bin_dp(spat_sim_all, amp_sim_all, dp_all, pargs):\n",
    "    n_templates, n_backgrounds, n_models = db_thresholds.shape\n",
    "    n_rows, n_cols = pargs['n_rows'], pargs['n_cols']\n",
    "    fig, axs = subplots(nrows=n_rows, ncols=n_cols, figsize=pargs['figsize'], constrained_layout=True)\n",
    "    db_th_min = db_thresholds.min() - 0.1 * db_thresholds.ptp()\n",
    "    db_th_max = db_thresholds.max() + 0.1 * db_thresholds.ptp()\n",
    "    \n",
    "    for i in range(n_models):\n",
    "        idxes = i//n_rows, i%n_rows\n",
    "        axs[idxes].scatter(pargs['x_tick_labels'], db_thresholds[:,0,i], s=pargs['markersize'], marker=pargs['markers'][i], edgecolor=pargs['colors'][i], facecolor=\"none\", linewidths=pargs['linewidth'], label=pargs['legends'][i])\n",
    "        axs[idxes].scatter(pargs['x_tick_labels'], db_thresholds[:,1,i], s=pargs['markersize'], marker=pargs['markers'][i], edgecolor=pargs['colors'][i], facecolor=pargs['colors'][i], linewidths=pargs['linewidth'])\n",
    "        axs[idxes].set_xlim(-0.5, n_templates-0.5)\n",
    "        axs[idxes].set_ylim(db_th_min, db_th_max)\n",
    "        axs[idxes].legend(loc='best', fontsize=pargs['fontsizes'][1])\n",
    "        \n",
    "        axs[idxes].tick_params(axis='x', which='both', direction='out', length=0, width=0,pad=5, labelsize=pargs['fontsizes'][2], labelbottom=True, labeltop=False, grid_color='k', grid_alpha=1, grid_linewidth=1, grid_linestyle='--')\n",
    "        axs[idxes].grid(visible=True, which='minor', axis='x', linestyle='--', linewidth=pargs['linewidth'])\n",
    "        axs[idxes].tick_params(axis='y', which='major', direction='out', length=12, width=4, pad=3, labelsize=pargs['fontsizes'][2], left=True, right=True, labelleft=True, labelright=True)\n",
    "        axs[idxes].tick_params(axis='y', which='minor', direction='out', length=8, width=4, left=True, right=True, labelleft=False, labelright=False)\n",
    "\n",
    "    fig.text(0.5, -0.05, pargs['x_label'], ha='center', fontsize=pargs['fontsizes'][0])\n",
    "    fig.text(-0.05, 0.5, pargs['y_label'], va='center', rotation='vertical', fontsize=pargs['fontsizes'][0])\n",
    "    savefig('plot_accuracy_' + pargs['plot_name'] + '.svg', dpi=300, bbox_inches='tight')\n",
    "    close()"
   ]
  },
  {
   "cell_type": "code",
   "execution_count": null,
   "metadata": {},
   "outputs": [],
   "source": [
    "# plot\n",
    "n_mod = len(models)\n",
    "n_row = 2\n",
    "n_col = math.ceil(n_mod / 2)\n",
    "pargs = {'plot_name': 'detection-1-f-noise', 'figsize': (20, 8), 'n_rows': n_row, 'n_cols': n_col, 'fontsizes': [36, 18, 15], 'x_label': 'Target', 'y_label': 'Threshold (dB)', 'x_tick_labels': ['rc', 'sine', 'tri', 'sqr'], 'legends': ['TM', 'WTM', 'RTM', 'WRTM'], 'markers': ['D', 'D', 'D', 'D'], 'colors': ['steelblue', 'firebrick', 'forestgreen', 'indigo'], 'markersize': 500, 'linewidth': 3}\n",
    "plot_double_bin_dp(spat_sim_all, amp_sim_all, dp_all, pargs)"
   ]
  },
  {
   "cell_type": "code",
   "execution_count": null,
   "metadata": {},
   "outputs": [],
   "source": []
  }
 ],
 "metadata": {
  "interpreter": {
   "hash": "cdc6791e7efb8b2c509ab860fa200884e726e855328caba8b31c0d9c15abe09d"
  },
  "kernelspec": {
   "display_name": "Python 3.10.4 ('gpu-bayesee')",
   "language": "python",
   "name": "python3"
  },
  "language_info": {
   "codemirror_mode": {
    "name": "ipython",
    "version": 3
   },
   "file_extension": ".py",
   "mimetype": "text/x-python",
   "name": "python",
   "nbconvert_exporter": "python",
   "pygments_lexer": "ipython3",
   "version": "3.10.4"
  },
  "orig_nbformat": 4
 },
 "nbformat": 4,
 "nbformat_minor": 2
}
