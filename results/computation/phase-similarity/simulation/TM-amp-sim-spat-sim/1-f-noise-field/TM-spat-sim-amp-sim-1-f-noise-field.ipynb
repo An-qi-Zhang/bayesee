{
 "cells": [
  {
   "cell_type": "code",
   "execution_count": null,
   "metadata": {},
   "outputs": [],
   "source": [
    "# stimulus parameters\n",
    "row = col = 128\n",
    "ppd = 60\n",
    "cpd = 1.5\n",
    "cpi_v = row * cpd / ppd\n",
    "field_ratio = 8"
   ]
  },
  {
   "cell_type": "code",
   "execution_count": null,
   "metadata": {},
   "outputs": [],
   "source": [
    "# backgrounds\n",
    "uni_images, field = power_noise_patches(row, col, row*field_ratio, col*field_ratio, -1, n_background, background_mean, background_std)\n",
    "pre_cm_images, _ = power_noise_patches(row, col, row*field_ratio, col*field_ratio, -1, n_background, background_mean, background_std)\n",
    "cm_images = np.zeros_like(pre_cm_images)\n",
    "\n",
    "for i in range(n_background):\n",
    "    cm_images[:,:,i] = contrast_modulate_lr(pre_cm_images[:,:,i], 4)"
   ]
  }
 ],
 "metadata": {
  "interpreter": {
   "hash": "cdc6791e7efb8b2c509ab860fa200884e726e855328caba8b31c0d9c15abe09d"
  },
  "kernelspec": {
   "display_name": "Python 3.10.4 ('gpu-bayesee')",
   "language": "python",
   "name": "python3"
  },
  "language_info": {
   "codemirror_mode": {
    "name": "ipython",
    "version": 3
   },
   "file_extension": ".py",
   "mimetype": "text/x-python",
   "name": "python",
   "nbconvert_exporter": "python",
   "pygments_lexer": "ipython3",
   "version": "3.10.4"
  },
  "orig_nbformat": 4
 },
 "nbformat": 4,
 "nbformat_minor": 2
}
