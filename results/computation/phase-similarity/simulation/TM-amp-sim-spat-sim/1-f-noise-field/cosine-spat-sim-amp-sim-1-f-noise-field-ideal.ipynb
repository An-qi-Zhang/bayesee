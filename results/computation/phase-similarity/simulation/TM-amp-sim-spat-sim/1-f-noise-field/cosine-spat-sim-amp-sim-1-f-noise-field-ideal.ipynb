{
 "cells": [
  {
   "cell_type": "code",
   "execution_count": 1,
   "metadata": {},
   "outputs": [],
   "source": [
    "# standard libraries\n",
    "import numpy as np\n",
    "import math\n",
    "from pprint import pprint as pp\n",
    "from matplotlib.pyplot import *\n",
    "%matplotlib inline"
   ]
  },
  {
   "cell_type": "code",
   "execution_count": 2,
   "metadata": {},
   "outputs": [],
   "source": [
    "# user library\n",
    "from bayesee.detector.spotter import *\n",
    "from bayesee.imaging.filter import *\n",
    "from bayesee.imaging.image import *\n",
    "from bayesee.operation.nb2d import *\n",
    "from bayesee.operation.dp import *\n",
    "from bayesee.operation.mathfunc import *"
   ]
  },
  {
   "cell_type": "code",
   "execution_count": 3,
   "metadata": {},
   "outputs": [],
   "source": [
    "# stimulus parameters\n",
    "row = col = 100\n",
    "i_row = i_col = 128\n",
    "ppd = 120\n",
    "cpd = 4\n",
    "cpi_v = row * cpd / ppd\n",
    "field_ratio = 8"
   ]
  },
  {
   "cell_type": "code",
   "execution_count": 4,
   "metadata": {},
   "outputs": [],
   "source": [
    "# simulation parameters\n",
    "n_bin_spat_sim = 5\n",
    "n_bin_amp_sim = 3\n",
    "n_bin_background = 1000\n",
    "n_background = n_bin_background * n_bin_amp_sim * n_bin_spat_sim\n",
    "background_mean = 0\n",
    "background_std = 0.204"
   ]
  },
  {
   "cell_type": "code",
   "execution_count": 5,
   "metadata": {},
   "outputs": [],
   "source": [
    "# templates\n",
    "cosine_template = hann_window(row, col, row/2) * cosine_wave(row, col, (cpi_v,0))\n",
    "cosine_template /= nb2dot(cosine_template, cosine_template)"
   ]
  },
  {
   "cell_type": "code",
   "execution_count": 6,
   "metadata": {},
   "outputs": [],
   "source": [
    "# backgrounds\n",
    "one_f_0_noise,_ = power_noise_patches(i_row, i_col, i_row*field_ratio, i_col*field_ratio, 0, n_background, background_mean, background_std)\n",
    "one_f_noise,_ = power_noise_patches(i_row, i_col, i_row*field_ratio, i_col*field_ratio, -1, n_background, background_mean, background_std)\n",
    "one_f_3_noise,_ = power_noise_patches(i_row, i_col, i_row*field_ratio, i_col*field_ratio, -3, n_background, background_mean, background_std)\n",
    "\n",
    "backgrounds = [one_f_0_noise, one_f_noise, one_f_3_noise]"
   ]
  },
  {
   "cell_type": "code",
   "execution_count": null,
   "metadata": {},
   "outputs": [],
   "source": [
    "# spotters\n",
    "csf = {'ppd': ppd}\n",
    "uncer_std = 0.083*ppd/8\n",
    "uncer={'size': uncer_std * 3, 'func': lambda x: np.exp(-(x/uncer_std)**2/2) / np.sqrt(2*np.pi*uncer_std), 'info': 'prior', 'focus': 'max'}\n",
    "\n",
    "TM = Spotter(method='TM')\n",
    "WTM1 = Spotter(method='WTM', whiten=1)\n",
    "WTM3 = Spotter(method='WTM', whiten=3)\n",
    "WTM = [TM, WTM1, WTM3]\n",
    "UTM = UncertainSpotter(method='UTM', uncer=uncer)\n",
    "UWTM1 = UncertainSpotter(method='UWTM', whiten=1, uncer=uncer)\n",
    "UWTM3 = UncertainSpotter(method='UWTM', whiten=3, uncer=uncer)\n",
    "UWTM = [UTM, UWTM1, UWTM3]\n",
    "models = [WTM, UWTM]"
   ]
  },
  {
   "cell_type": "code",
   "execution_count": null,
   "metadata": {},
   "outputs": [],
   "source": [
    "# window\n",
    "hann = flat_top_hann_window(row, col, [0.45 * row, 0.5 * row])"
   ]
  },
  {
   "cell_type": "code",
   "execution_count": null,
   "metadata": {},
   "outputs": [],
   "source": [
    "# simulation function\n",
    "def power_noise_spat_sim_amp_sim(template, background, window, n_amps):\n",
    "    n_background = background.shape[2]\n",
    "    spat_sim = np.zeros((n_background*2*n_amps,))\n",
    "    amp_sim = np.zeros((n_background*2*n_amps,))\n",
    "    \n",
    "    for i in range(n_background):\n",
    "        spat_sim[2*n_amps*i:2*n_amps*(i+1)] = spatial_cosine_similarity(cut_center(background[:,:,i],template), template, window)\n",
    "        amp_sim[2*n_amps*i:2*n_amps*(i+1)] = amplitude_cosine_similarity(cut_center(background[:,:,i],template), template, window)\n",
    "        \n",
    "    return spat_sim, amp_sim\n",
    "\n",
    "def detection_model_power_noise(model, template, background, amp_init, n_amps):\n",
    "    amp = np.ones((background.shape[2],)) * amp_init\n",
    "    stimulus = np.zeros_like(amp)\n",
    "    response = np.zeros_like(amp)\n",
    "    \n",
    "    j = 0\n",
    "    for i in range(background.shape[2]):\n",
    "        if j == n_amps:\n",
    "            j = 0\n",
    "            \n",
    "        amp[i] *= 2**j\n",
    "        \n",
    "        if i%2:\n",
    "            stimulus[i] = 0\n",
    "            response[i] = model.give_response(background[:,:,i], template)\n",
    "        else:\n",
    "            stimulus[i] = 1\n",
    "            response[i] = model.give_response(add_to_center(background[:,:,i], amp[i]*template), template)\n",
    "            \n",
    "        j += 1\n",
    "        \n",
    "    return amp, stimulus, response"
   ]
  },
  {
   "cell_type": "code",
   "execution_count": null,
   "metadata": {},
   "outputs": [],
   "source": [
    "# calculate spat sims and amp sims\n",
    "n_amps = 5\n",
    "amp_all = np.zeros((len(models), len(backgrounds), n_background * 2 * n_amps))\n",
    "stimulus_all = np.zeros_like(amp_all)\n",
    "response_all = np.zeros_like(amp_all)\n",
    "spat_sim_all = np.zeros_like(amp_all)\n",
    "amp_sim_all = np.zeros_like(amp_all)\n",
    "\n",
    "for b, background in enumerate(backgrounds):\n",
    "    spat_sim_all[0,b,:], amp_sim_all[0,b,:] = power_noise_spat_sim_amp_sim(cosine_template, background, hann, n_amps)\n",
    "    for m, model in enumerate(models):\n",
    "        if m > 0:\n",
    "            spat_sim_all[m,b,:], amp_sim_all[m,b,:] = spat_sim_all[0,b,:], amp_sim_all[0,b,:]"
   ]
  },
  {
   "cell_type": "code",
   "execution_count": null,
   "metadata": {},
   "outputs": [],
   "source": [
    "# calculate thresholds\n",
    "amp_inits = [[0.2, 0.5, 0.3], [0.2, 0.75, 0.3], [0.2, 1, 0.3]]\n",
    "\n",
    "th_all = np.zeros((len(models), len(backgrounds), n_bin_spat_sim, n_bin_amp_sim))\n",
    "\n",
    "def equal_frequency_bins_2d(x, y, bins):\n",
    "    # x is binned first, y is then binned in the bins of x\n",
    "    bins_x = np.interp(np.linspace(0, len(x), bins[0] + 1), np.arange(len(x)), np.sort(x))\n",
    "    bins_y = np.zeros((bins[0], bins[1]+1))\n",
    "    for i in range(bins[0]):\n",
    "        b_y = y[(x>=bins_x[i]) & (x<bins_x[i+1])]\n",
    "        bins_y[i,:] = np.interp(np.linspace(0, len(b_y), bins[1] + 1), np.arange(len(b_y)), np.sort(b_y))\n",
    "        \n",
    "    return bins_x, bins_y\n",
    "\n",
    "bin_edges_amp_sim_all = np.zeros((len(models), len(backgrounds), n_bin_amp_sim+1))\n",
    "bin_edges_spat_sim_all = np.zeros((len(models), len(backgrounds), n_bin_amp_sim, n_bin_spat_sim+1))\n",
    "\n",
    "for b,background in enumerate(backgrounds):\n",
    "    repeated_background = np.repeat(background, 2*n_amps, axis=2)\n",
    "    b_e_amp_sim, b_e_spat_sim = equal_frequency_bins_2d(amp_sim_all[0,b,:], spat_sim_all[0,b,:], [n_bin_amp_sim, n_bin_spat_sim])\n",
    "    for m,model in enumerate(models):\n",
    "        bin_edges_amp_sim_all[m,b,:], bin_edges_spat_sim_all[m,b,:,:] = b_e_amp_sim, b_e_spat_sim\n",
    "        for i in range(n_bin_amp_sim):\n",
    "            for j in range(n_bin_spat_sim):\n",
    "                bin_idx = (amp_sim_all[m,b,:] >= b_e_amp_sim[i]) & (amp_sim_all[m,b,:] < b_e_amp_sim[i+1]) & (spat_sim_all[m,b,:] >= b_e_spat_sim[i,j]) & (spat_sim_all[m,b,:] < b_e_spat_sim[i,j+1])\n",
    "                amp_all[m,b,bin_idx], stimulus_all[m,b,bin_idx], response_all[m,b,bin_idx] = bin_amp, bin_stimulus, bin_response = detection_model_power_noise(model[b], cosine_template, repeated_background[:,:,bin_idx], amp_inits[m][b], n_amps)\n",
    "                if m < 2:\n",
    "                    th_all[m,b,j,i] = linear_cont_th(bin_amp, bin_stimulus, bin_response)\n",
    "                else:\n",
    "                    th_all[m,b,j,i] = uncertain_cont_th(bin_amp, bin_stimulus, bin_response)\n",
    "                    \n",
    "np.savez('cosine-spat-sim-amp-sim-1-f-noise-field-ideal', amp_all=amp_all, stimulus_all=stimulus_all, response_all=response_all, spat_sim_all=spat_sim_all, amp_sim_all=amp_sim_all, bin_edges_spat_sim_all=bin_edges_spat_sim_all, bin_edges_amp_sim_all=bin_edges_amp_sim_all, th_all = th_all)"
   ]
  },
  {
   "cell_type": "code",
   "execution_count": null,
   "metadata": {},
   "outputs": [],
   "source": [
    "# plot function\n",
    "def plot_th_bin2d(bin_edges_spat_sim_all, bin_edges_amp_sim_all, th_all, pargs):\n",
    "    db_th_all = decibel(th_all)\n",
    "    \n",
    "    n_models, n_backgrounds, n_bin_amp_sim,_  = bin_edges_spat_sim_all.shape\n",
    "    n_rows, n_cols = pargs['n_rows'], pargs['n_cols']\n",
    "    fig, axs = subplots(nrows=n_rows, ncols=n_cols, figsize=pargs['figsize'], constrained_layout=True)\n",
    "    \n",
    "    for m in range(n_models):\n",
    "        for b in range(n_backgrounds):\n",
    "            x_max = np.abs(bin_edges_spat_sim_all[:,b,:,:]).max()\n",
    "            \n",
    "            bin_centers_amp_sim = (bin_edges_amp_sim_all[m,b,:-1]+bin_edges_amp_sim_all[m,b,1:])/2\n",
    "            bin_centers_spat_sim = (bin_edges_spat_sim_all[m,b,:,:-1]+bin_edges_spat_sim_all[m,b,:,1:])/2\n",
    "            \n",
    "            if n_models == 1 or n_backgrounds == 1:\n",
    "                idxes = b if n_models == 1 else m\n",
    "            else:\n",
    "                idxes = m, b\n",
    "            \n",
    "            for i in range(n_bin_amp_sim):\n",
    "                axs[idxes].scatter(bin_centers_spat_sim[i,:], db_th_all[m,b,:,i], s=pargs['markersize'], marker=pargs['markers'][i], edgecolor=pargs['colors'][i], facecolor=pargs['colors'][i], linewidths=pargs['linewidth'], label=f'acs:{bin_centers_amp_sim[i]:.2f}')\n",
    "                axs[idxes].plot(bin_centers_spat_sim[i,:], db_th_all[m,b,:,i], color=pargs['colors'][i], linewidth=pargs['linewidth'])\n",
    "                axs[idxes].set_xlim(-x_max, x_max)\n",
    "                \n",
    "            axs[idxes].text(0.1,0.1,pargs['legends'][m][b], transform=axs[idxes].transAxes, c='k', fontsize=pargs['fontsizes'][2])\n",
    "            axs[idxes].legend(loc='upper right', fontsize=pargs['fontsizes'][2])\n",
    "        \n",
    "            axs[idxes].tick_params(axis='x', which='both', direction='out', length=0, width=0,pad=5, labelsize=pargs['fontsizes'][2], labelbottom=True, labeltop=False, grid_color='k', grid_alpha=1, grid_linewidth=1, grid_linestyle='--')\n",
    "            axs[idxes].grid(visible=True, which='minor', axis='x', linestyle='--', linewidth=pargs['linewidth'])\n",
    "            axs[idxes].tick_params(axis='y', which='major', direction='out', length=12, width=4, pad=3, labelsize=pargs['fontsizes'][2], left=True, right=True, labelleft=True, labelright=True)\n",
    "            axs[idxes].tick_params(axis='y', which='minor', direction='out', length=8, width=4, left=True, right=True, labelleft=False, labelright=False)\n",
    "\n",
    "    fig.text(0.5, -0.075, pargs['x_label'], ha='center', fontsize=pargs['fontsizes'][0])\n",
    "    fig.text(-0.05, 0.5, pargs['y_label'], va='center', rotation='vertical', fontsize=pargs['fontsizes'][0])\n",
    "    savefig('th_spat_sim_amp_sim_' + pargs['plot_name'] + '_ideal.svg', dpi=300, bbox_inches='tight')\n",
    "    close()\n"
   ]
  },
  {
   "cell_type": "code",
   "execution_count": null,
   "metadata": {},
   "outputs": [],
   "source": [
    "# plot\n",
    "data = np.load('cosine-spat-sim-amp-sim-1-f-noise-field-ideal.npz')\n",
    "amp_all, stimulus_all, response_all, spat_sim_all, amp_sim_all, bin_edges_spat_sim_all, bin_edges_amp_sim_all, th_all = data['amp_all'], data['stimulus_all'], data['response_all'], data['spat_sim_all'], data['amp_sim_all'], data['bin_edges_spat_sim_all'], data['bin_edges_amp_sim_all'], data['th_all']\n",
    "\n",
    "n_row = len(models)\n",
    "n_col = len(backgrounds)\n",
    "pargs = {'plot_name': 'cosine', 'figsize': (20, 8), 'n_rows': n_row, 'n_cols': n_col, 'fontsizes': [36, 15, 12], 'x_label': 'Spatial Cosine Similarity', 'y_label': 'Amplitude Cosine Similarity', 'legends': [['WTM | white', 'WTM | 1/f', 'WTM | 1/f^3'], ['UWTM | white', 'UWTM | 1/f', 'UWTM | 1/f^3']], 'markers': ['o', 'o', 'o', 'o', 'o', 'o', 'o'], 'colors':['r', 'g', 'b', 'c', 'm', 'y', 'k'], 'markersize': 100, 'linewidth': 2}\n",
    "plot_th_bin2d(bin_edges_spat_sim_all, bin_edges_amp_sim_all, th_all, pargs)"
   ]
  },
  {
   "cell_type": "code",
   "execution_count": null,
   "metadata": {},
   "outputs": [],
   "source": []
  }
 ],
 "metadata": {
  "kernelspec": {
   "display_name": "Python 3.10.4 ('gpu-bayesee')",
   "language": "python",
   "name": "python3"
  },
  "language_info": {
   "codemirror_mode": {
    "name": "ipython",
    "version": 3
   },
   "file_extension": ".py",
   "mimetype": "text/x-python",
   "name": "python",
   "nbconvert_exporter": "python",
   "pygments_lexer": "ipython3",
   "version": "3.10.4"
  },
  "orig_nbformat": 4,
  "vscode": {
   "interpreter": {
    "hash": "cdc6791e7efb8b2c509ab860fa200884e726e855328caba8b31c0d9c15abe09d"
   }
  }
 },
 "nbformat": 4,
 "nbformat_minor": 2
}
