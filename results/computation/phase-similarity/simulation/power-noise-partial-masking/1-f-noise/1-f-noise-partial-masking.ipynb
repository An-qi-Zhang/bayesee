{
 "cells": [
  {
   "cell_type": "code",
   "execution_count": 1,
   "metadata": {},
   "outputs": [],
   "source": [
    "# standard libraries\n",
    "import numpy as np\n",
    "import math\n",
    "from pprint import pprint as pp\n",
    "from matplotlib.pyplot import *\n",
    "%matplotlib inline"
   ]
  },
  {
   "cell_type": "code",
   "execution_count": 2,
   "metadata": {},
   "outputs": [],
   "source": [
    "# user library\n",
    "from bayesee.detector.spotter import *\n",
    "from bayesee.imaging.filter import *\n",
    "from bayesee.imaging.image import *\n",
    "from bayesee.operation.nb2d import *\n",
    "from bayesee.operation.dp import *\n",
    "from bayesee.operation.mathfunc import *"
   ]
  },
  {
   "cell_type": "code",
   "execution_count": 3,
   "metadata": {},
   "outputs": [],
   "source": [
    "# stimulus parameters\n",
    "row = col = 100\n",
    "i_row = i_col = 128\n",
    "ppd = 120\n",
    "cpd = 4\n",
    "cpi_v = row * cpd / ppd"
   ]
  },
  {
   "cell_type": "code",
   "execution_count": 4,
   "metadata": {},
   "outputs": [],
   "source": [
    "# simulation parameters\n",
    "n_bin_spat_sim = 5\n",
    "n_bin_amp_sim = 3\n",
    "n_bin_background = 10\n",
    "n_background = n_bin_background * n_bin_amp_sim * n_bin_spat_sim\n",
    "background_mean = 0\n",
    "background_std = 0.204"
   ]
  },
  {
   "cell_type": "code",
   "execution_count": 5,
   "metadata": {},
   "outputs": [],
   "source": [
    "# templates\n",
    "rc_template = hann_window(row, col, row/2)\n",
    "rc_template /= nb2dot(rc_template, rc_template)\n",
    "\n",
    "cosine_template = hann_window(row, col, row/2) * cosine_wave(row, col, (cpi_v,0))\n",
    "cosine_template /= nb2dot(cosine_template, cosine_template)\n",
    "\n",
    "plaid_template = hann_window(row, col, row/2) * cosine_wave(row, col, (cpi_v/2, cpi_v/2)) * cosine_wave(row, col, (cpi_v/2, -cpi_v/2))\n",
    "plaid_template /= nb2dot(plaid_template, plaid_template)\n",
    "\n",
    "targets = [rc_template, cosine_template, plaid_template]"
   ]
  },
  {
   "cell_type": "code",
   "execution_count": 6,
   "metadata": {},
   "outputs": [],
   "source": [
    "# backgrounds\n",
    "one_f_0_noise = np.zeros((i_row, i_col, n_background))\n",
    "one_f_noise = np.zeros((i_row, i_col, n_background))\n",
    "one_f_3_noise = np.zeros((i_row, i_col, n_background))\n",
    "\n",
    "for i in range(n_background):\n",
    "    one_f_0_noise[:,:,i] = power_noise(i_row, i_col, 0, background_mean, background_std)\n",
    "    one_f_noise[:,:,i] = power_noise(i_row, i_col, -1, background_mean, background_std)\n",
    "    one_f_3_noise[:,:,i] = power_noise(i_row, i_col, -3, background_mean, background_std)\n",
    "    \n",
    "backgrounds = [one_f_0_noise, one_f_noise, one_f_3_noise]"
   ]
  },
  {
   "cell_type": "code",
   "execution_count": 7,
   "metadata": {},
   "outputs": [],
   "source": [
    "# window\n",
    "hann = flat_top_hann_window(row, col, [0.45 * row, 0.5 * row])"
   ]
  },
  {
   "cell_type": "code",
   "execution_count": 8,
   "metadata": {},
   "outputs": [],
   "source": [
    "# calculate partial masking factors\n",
    "pmf_all = np.zeros((len(targets), len(backgrounds), n_background))\n",
    "spat_sim_all = np.zeros((len(targets), len(backgrounds), n_background))\n",
    "amp_sim_all = np.zeros((len(targets), len(backgrounds), n_background))\n",
    "\n",
    "for t, target in enumerate(targets):\n",
    "    for b, background in enumerate(backgrounds):\n",
    "        for i in range(n_background):\n",
    "            pmf_all[t,b,i] = partial_masking_factor(cut_center(background[:,:,i],target), target, hann)\n",
    "            spat_sim_all[t,b,i] = spatial_cosine_similarity(cut_center(background[:,:,i],target), target, hann)\n",
    "            amp_sim_all[t,b,i] = amplitude_cosine_similarity(cut_center(background[:,:,i],target), target, hann)"
   ]
  },
  {
   "cell_type": "code",
   "execution_count": 9,
   "metadata": {},
   "outputs": [],
   "source": [
    "# calculate bin edges\n",
    "def equal_frequency_bins_2d(x, y, bins):\n",
    "    # x is binned first, y is then binned in the bins of x\n",
    "    bins_x = np.interp(np.linspace(0, len(x), bins[0] + 1), np.arange(len(x)), np.sort(x))\n",
    "    bins_y = np.zeros((bins[0], bins[1]+1))\n",
    "    for i in range(bins[0]):\n",
    "        b_y = y[(x>=bins_x[i]) & (x<bins_x[i+1])]\n",
    "        bins_y[i,:] = np.interp(np.linspace(0, len(b_y), bins[1] + 1), np.arange(len(b_y)), np.sort(b_y))\n",
    "        \n",
    "    return bins_x, bins_y\n",
    "\n",
    "bin_edges_amp_sim_all = np.zeros((len(targets), len(backgrounds), n_bin_amp_sim+1))\n",
    "bin_edges_spat_sim_all = np.zeros((len(targets), len(backgrounds), n_bin_amp_sim, n_bin_spat_sim+1))\n",
    "\n",
    "for t, target in enumerate(targets):\n",
    "    for b, background in enumerate(backgrounds):\n",
    "        bin_edges_amp_sim_all[t,b,:], bin_edges_spat_sim_all[t,b,:,:] = equal_frequency_bins_2d(amp_sim_all[t,b,:], spat_sim_all[t,b,:], [n_bin_amp_sim, n_bin_spat_sim])"
   ]
  },
  {
   "cell_type": "code",
   "execution_count": 10,
   "metadata": {},
   "outputs": [],
   "source": [
    "# plot function\n",
    "def plot_pmf_bin2d(bin_edges_spat_sim_all, bin_edges_amp_sim_all, pmf_all, pargs):\n",
    "    n_targets, n_backgrounds, n_bin_amp_sim, n_bin_spat_sim  = bin_edges_spat_sim_all.shape\n",
    "    n_bin_spat_sim -= 1\n",
    "    n_rows, n_cols = pargs['n_rows'], pargs['n_cols']\n",
    "    fig, axs = subplots(nrows=n_rows, ncols=n_cols, figsize=pargs['figsize'], constrained_layout=True)\n",
    "    \n",
    "    pmf_median = np.zeros((n_bin_amp_sim,n_bin_spat_sim))\n",
    "    pmf_errors = np.zeros((n_bin_amp_sim,2,n_bin_spat_sim))\n",
    "    \n",
    "    for t in range(n_targets):\n",
    "        for b in range(n_backgrounds):\n",
    "            if n_targets == 1 or n_backgrounds == 1:\n",
    "                    a_idx = t if n_backgrounds == 1 else b\n",
    "            else:\n",
    "                a_idx = t,b\n",
    "                    \n",
    "            x_max = np.abs(bin_edges_spat_sim_all[t,b,:,:]).max()\n",
    "            \n",
    "            bin_centers_amp_sim = (bin_edges_amp_sim_all[t,b,:-1]+bin_edges_amp_sim_all[t,b,1:])/2\n",
    "            bin_centers_spat_sim = (bin_edges_spat_sim_all[t,b,:,:-1]+bin_edges_spat_sim_all[t,b,:,1:])/2\n",
    "            \n",
    "            for i in range(n_bin_amp_sim):\n",
    "                for j in range(n_bin_spat_sim):\n",
    "                    be_as, be_ss = bin_edges_amp_sim_all[t,b,:], bin_edges_spat_sim_all[t,b,:,:]\n",
    "                    bin_idx = (amp_sim_all[t,b,:] >= be_as[i]) & (amp_sim_all[t,b,:] < be_as[i+1]) & (spat_sim_all[t,b,:] >= be_ss[i,j]) & (spat_sim_all[t,b,:] < be_ss[i,j+1])\n",
    "                    \n",
    "                    pmf_median[i,j] = np.median(pmf_all[t,b,bin_idx])\n",
    "                    pmf_errors[i,0,j] = np.median(pmf_all[t,b,bin_idx]) - np.quantile(pmf_all[t,b,bin_idx], 0.16)\n",
    "                    pmf_errors[i,1,j] = np.quantile(pmf_all[t,b,bin_idx], 0.84) - np.median(pmf_all[t,b,bin_idx])\n",
    "                                                                                    \n",
    "                axs[a_idx].errorbar(bin_centers_spat_sim[i,:], pmf_median[i,:], yerr=pmf_errors[i,:,:], marker=pargs['markers'][i], c=pargs['colors'][i], mfc=pargs['colors'][i], mec=pargs['colors'][i], ecolor=pargs['colors'][i], capsize=pargs['fontsizes'][1], markersize=pargs['fontsizes'][1], label=f'acs:{bin_centers_amp_sim[i]:.2f}', alpha=pargs['alpha'])\n",
    "            \n",
    "            axs[a_idx].text(0.1,0.9,pargs['legends'][t][b], transform=axs[a_idx].transAxes, c='k', fontsize=pargs['fontsizes'][2])\n",
    "            axs[a_idx].legend(loc='upper right', fontsize=pargs['fontsizes'][2])\n",
    "            axs[a_idx].set_xlim(-x_max, x_max)\n",
    "            \n",
    "            axs[a_idx].tick_params(axis='x', which='both', direction='out', length=0, width=0,pad=5, labelsize=pargs['fontsizes'][2], labelbottom=True, labeltop=False, grid_color='k', grid_alpha=1, grid_linewidth=1, grid_linestyle='--')\n",
    "            axs[a_idx].grid(visible=True, which='minor', axis='x', linestyle='--', linewidth=pargs['linewidth'])\n",
    "            axs[a_idx].tick_params(axis='y', which='major', direction='out', length=12, width=4, pad=3, labelsize=pargs['fontsizes'][2], left=True, right=True, labelleft=True, labelright=True)\n",
    "            axs[a_idx].tick_params(axis='y', which='minor', direction='out', length=8, width=4, left=True, right=True, labelleft=False, labelright=False)\n",
    "    \n",
    "    fig.text(0.5, -0.075, pargs['x_label'], ha='center', fontsize=pargs['fontsizes'][0])\n",
    "    fig.text(-0.05, 0.5, pargs['y_label'], va='center', rotation='vertical', fontsize=pargs['fontsizes'][0])\n",
    "    savefig('pmf_spat_sim_amp_sim_' + pargs['plot_name'] + '.svg', dpi=300, bbox_inches='tight')\n",
    "    close()\n"
   ]
  },
  {
   "cell_type": "code",
   "execution_count": 12,
   "metadata": {},
   "outputs": [],
   "source": [
    "# plot\n",
    "n_row = len(targets)\n",
    "n_col = len(backgrounds)\n",
    "pargs = {'plot_name': 'rc_cosine_plaid', 'figsize': (20, 8), 'n_rows': n_row, 'n_cols': n_col, 'fontsizes': [36, 15, 12], 'x_label': 'Spatial Cosine Similarity', 'y_label': 'Partial Masking Factor', 'legends': [['rc | white', 'rc | 1/f', 'rc | 1/f^3'], ['cosine | white', 'cosine | 1/f', 'cosine | 1/f^3'], ['plaid | white', 'plaid | 1/f', 'plaid | 1/f^3']], 'markers': ['o', 's', 'D', 'p', 'h', '*'], 'colors':['r', 'g', 'b', 'c', 'm', 'y', 'k'], 'markersize': 100, 'linewidth': 2, 'hist_bins':30, 'alpha': 0.7}\n",
    "plot_pmf_bin2d(bin_edges_spat_sim_all, bin_edges_amp_sim_all, pmf_all, pargs)"
   ]
  },
  {
   "cell_type": "code",
   "execution_count": null,
   "metadata": {},
   "outputs": [],
   "source": []
  }
 ],
 "metadata": {
  "kernelspec": {
   "display_name": "Python 3.10.4 ('gpu-bayesee')",
   "language": "python",
   "name": "python3"
  },
  "language_info": {
   "codemirror_mode": {
    "name": "ipython",
    "version": 3
   },
   "file_extension": ".py",
   "mimetype": "text/x-python",
   "name": "python",
   "nbconvert_exporter": "python",
   "pygments_lexer": "ipython3",
   "version": "3.10.4"
  },
  "orig_nbformat": 4,
  "vscode": {
   "interpreter": {
    "hash": "cdc6791e7efb8b2c509ab860fa200884e726e855328caba8b31c0d9c15abe09d"
   }
  }
 },
 "nbformat": 4,
 "nbformat_minor": 2
}
