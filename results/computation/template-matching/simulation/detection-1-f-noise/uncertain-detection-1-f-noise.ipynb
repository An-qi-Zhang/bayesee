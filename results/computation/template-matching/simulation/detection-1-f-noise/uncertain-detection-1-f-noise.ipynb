{
 "cells": [
  {
   "cell_type": "code",
   "execution_count": 1,
   "metadata": {},
   "outputs": [],
   "source": [
    "# standard libraries\n",
    "import numpy as np\n",
    "import math\n",
    "from pprint import pprint as pp\n",
    "from matplotlib.pyplot import *\n",
    "%matplotlib inline"
   ]
  },
  {
   "cell_type": "code",
   "execution_count": 2,
   "metadata": {},
   "outputs": [],
   "source": [
    "# user library\n",
    "from bayesee.detector.spotter import UncertainSpotter\n",
    "from bayesee.imaging.filter import *\n",
    "from bayesee.imaging.image import *\n",
    "from bayesee.operation.nb2d import *\n",
    "from bayesee.operation.dp import *\n",
    "from bayesee.operation.mathfunc import *"
   ]
  },
  {
   "cell_type": "code",
   "execution_count": 3,
   "metadata": {},
   "outputs": [],
   "source": [
    "# stimulus parameters\n",
    "row = col = 128\n",
    "i_row = i_col = 256\n",
    "ppd = 120\n",
    "cpd = 1.5\n",
    "cpi_v = row * cpd / ppd\n",
    "field_ratio = 8"
   ]
  },
  {
   "cell_type": "code",
   "execution_count": 4,
   "metadata": {},
   "outputs": [],
   "source": [
    "# simulation parameters\n",
    "n_background = 1000\n",
    "background_mean = 128\n",
    "background_std = 128 * 0.204\n",
    "n_iter = 10\n",
    "dp_tar = 1"
   ]
  },
  {
   "cell_type": "code",
   "execution_count": 5,
   "metadata": {},
   "outputs": [],
   "source": [
    "# templates\n",
    "rc_template = hann_window(row, col, row/2)\n",
    "rc_template /= nb2dot(rc_template, rc_template)\n",
    "\n",
    "sine_template = hann_window(row, col, row/2) * sine_wave(row, col, (cpi_v,0))\n",
    "sine_template /= nb2dot(sine_template, sine_template)\n",
    "\n",
    "tri_template = hann_window(row, col, row/2) * sine_triangle_wave(row, col, (cpi_v, 0))\n",
    "tri_template /= nb2dot(tri_template, tri_template)\n",
    "\n",
    "sqr_template = hann_window(row, col, row/2) * sine_square_wave(row, col, (cpi_v, 0))\n",
    "sqr_template /= nb2dot(sqr_template, sqr_template)"
   ]
  },
  {
   "cell_type": "code",
   "execution_count": 6,
   "metadata": {},
   "outputs": [],
   "source": [
    "# backgrounds\n",
    "uni_images = np.zeros((i_row, i_col, n_background))\n",
    "cm_images = np.zeros((i_row, i_col, n_background))\n",
    "\n",
    "for i in range(n_background):\n",
    "    uni_images[:,:,i] = power_noise(i_row, i_col, -1, background_mean, background_std)\n",
    "    cm_images[:,:,i] = contrast_modulate_lr(power_noise(i_row, i_col, -1, background_mean, background_std), 4)"
   ]
  },
  {
   "cell_type": "code",
   "execution_count": 7,
   "metadata": {},
   "outputs": [],
   "source": [
    "# spotters\n",
    "uni_weighting_matrix = np.ones((i_row,i_col))\n",
    "cm_weighting_matrix = luminance_modulate_lr(uni_weighting_matrix, 4, flip=True)\n",
    "uncer={'size': 0.083*ppd, 'func': lambda x: np.exp(-x**2/2) * np.sqrt(2*np.pi), 'info': 'prior', 'focus': 'max'}\n",
    "\n",
    "UTM = UncertainSpotter(method='UTM', uncer=uncer)\n",
    "UWTM = UncertainSpotter(method='UWTM', whiten=1, uncer=uncer)\n",
    "uni_URTM = UncertainSpotter(method='URTM', weight=uni_weighting_matrix, uncer=uncer)\n",
    "cm_URTM = UncertainSpotter(method='URTM', weight=cm_weighting_matrix, uncer=uncer)\n",
    "uni_UWRTM = UncertainSpotter(method='UWRTM', whiten=1, weight=uni_weighting_matrix, uncer=uncer)\n",
    "cm_UWRTM = UncertainSpotter(method='UWRTM', whiten=1, weight=cm_weighting_matrix, uncer=uncer)"
   ]
  },
  {
   "cell_type": "code",
   "execution_count": 8,
   "metadata": {},
   "outputs": [],
   "source": [
    "# simulation function\n",
    "def detection_1_f_noise(model, template, background, amp_init, n_iter):\n",
    "    n_total = n_iter * n_background * 2\n",
    "    amp = np.ones((n_total,)) * amp_init\n",
    "    stimulus = np.ones((n_total,))\n",
    "    response = np.ones((n_total,))\n",
    "    amp_iter = np.ones((n_background * 2,))\n",
    "    stimulus_iter = np.ones((n_background * 2,))\n",
    "    response_iter = np.ones((n_background * 2,))\n",
    "\n",
    "    for i in range(n_iter):\n",
    "        for j in range(n_background):\n",
    "            stimulus_iter[2*j] = 0\n",
    "            response_iter[2*j] = model.give_response(background[:,:,j], template)\n",
    "            stimulus_iter[2*j+1] = 1\n",
    "            response_iter[2*j+1] = model.give_response(add_to_center(background[:,:,j], amp_iter[0]*template), template)\n",
    "            \n",
    "        amp[i*n_background*2:(i+1)*n_background*2] = amp_iter\n",
    "        stimulus[i*n_background*2:(i+1)*n_background*2] = stimulus_iter\n",
    "        response[i*n_background*2:(i+1)*n_background*2] = response_iter\n",
    "        dp,_,_ = glm_cont_linear(amp_iter, stimulus_iter, response_iter)\n",
    "        amp_iter[:] *= dp_tar / dp[0] * (np.random.rand() + 0.5)\n",
    "    \n",
    "    return amp, stimulus, response"
   ]
  },
  {
   "cell_type": "code",
   "execution_count": 9,
   "metadata": {},
   "outputs": [
    {
     "ename": "KeyboardInterrupt",
     "evalue": "",
     "output_type": "error",
     "traceback": [
      "\u001b[0;31m---------------------------------------------------------------------------\u001b[0m",
      "\u001b[0;31mKeyboardInterrupt\u001b[0m                         Traceback (most recent call last)",
      "\u001b[1;32m/home/anqi/bayesee/results/computation/template-matching/simulation/detection-1-f-noise/uncertain-detection-1-f-noise.ipynb Cell 9'\u001b[0m in \u001b[0;36m<cell line: 8>\u001b[0;34m()\u001b[0m\n\u001b[1;32m      <a href='vscode-notebook-cell:/home/anqi/bayesee/results/computation/template-matching/simulation/detection-1-f-noise/uncertain-detection-1-f-noise.ipynb#ch0000008?line=7'>8</a>\u001b[0m \u001b[39mfor\u001b[39;00m t, template \u001b[39min\u001b[39;00m \u001b[39menumerate\u001b[39m(templates):\n\u001b[1;32m      <a href='vscode-notebook-cell:/home/anqi/bayesee/results/computation/template-matching/simulation/detection-1-f-noise/uncertain-detection-1-f-noise.ipynb#ch0000008?line=8'>9</a>\u001b[0m     \u001b[39mfor\u001b[39;00m b, background \u001b[39min\u001b[39;00m \u001b[39menumerate\u001b[39m(backgrounds):\n\u001b[0;32m---> <a href='vscode-notebook-cell:/home/anqi/bayesee/results/computation/template-matching/simulation/detection-1-f-noise/uncertain-detection-1-f-noise.ipynb#ch0000008?line=9'>10</a>\u001b[0m         thresholds[t,b,\u001b[39m0\u001b[39m] \u001b[39m=\u001b[39m linear_cont_th(\u001b[39m*\u001b[39mdetection_1_f_noise(UTM, template, background, amp_init, n_iter))\n\u001b[1;32m     <a href='vscode-notebook-cell:/home/anqi/bayesee/results/computation/template-matching/simulation/detection-1-f-noise/uncertain-detection-1-f-noise.ipynb#ch0000008?line=10'>11</a>\u001b[0m         thresholds[t,b,\u001b[39m1\u001b[39m] \u001b[39m=\u001b[39m linear_cont_th(\u001b[39m*\u001b[39mdetection_1_f_noise(UWTM, template, background, amp_init, n_iter))\n\u001b[1;32m     <a href='vscode-notebook-cell:/home/anqi/bayesee/results/computation/template-matching/simulation/detection-1-f-noise/uncertain-detection-1-f-noise.ipynb#ch0000008?line=11'>12</a>\u001b[0m         thresholds[t,b,\u001b[39m2\u001b[39m] \u001b[39m=\u001b[39m linear_cont_th(\u001b[39m*\u001b[39mdetection_1_f_noise(uni_URTM, template, background, amp_init, n_iter)) \u001b[39mif\u001b[39;00m b\u001b[39m==\u001b[39m\u001b[39m0\u001b[39m \u001b[39melse\u001b[39;00m linear_cont_th(\u001b[39m*\u001b[39mdetection_1_f_noise(cm_URTM, template, background, amp_init, n_iter))\n",
      "\u001b[1;32m/home/anqi/bayesee/results/computation/template-matching/simulation/detection-1-f-noise/uncertain-detection-1-f-noise.ipynb Cell 8'\u001b[0m in \u001b[0;36mdetection_1_f_noise\u001b[0;34m(model, template, background, amp_init, n_iter)\u001b[0m\n\u001b[1;32m     <a href='vscode-notebook-cell:/home/anqi/bayesee/results/computation/template-matching/simulation/detection-1-f-noise/uncertain-detection-1-f-noise.ipynb#ch0000007?line=13'>14</a>\u001b[0m     response_iter[\u001b[39m2\u001b[39m\u001b[39m*\u001b[39mj] \u001b[39m=\u001b[39m model\u001b[39m.\u001b[39mgive_response(background[:,:,j], template)\n\u001b[1;32m     <a href='vscode-notebook-cell:/home/anqi/bayesee/results/computation/template-matching/simulation/detection-1-f-noise/uncertain-detection-1-f-noise.ipynb#ch0000007?line=14'>15</a>\u001b[0m     stimulus_iter[\u001b[39m2\u001b[39m\u001b[39m*\u001b[39mj\u001b[39m+\u001b[39m\u001b[39m1\u001b[39m] \u001b[39m=\u001b[39m \u001b[39m1\u001b[39m\n\u001b[0;32m---> <a href='vscode-notebook-cell:/home/anqi/bayesee/results/computation/template-matching/simulation/detection-1-f-noise/uncertain-detection-1-f-noise.ipynb#ch0000007?line=15'>16</a>\u001b[0m     response_iter[\u001b[39m2\u001b[39m\u001b[39m*\u001b[39mj\u001b[39m+\u001b[39m\u001b[39m1\u001b[39m] \u001b[39m=\u001b[39m model\u001b[39m.\u001b[39;49mgive_response(add_to_center(background[:,:,j], amp_iter[\u001b[39m0\u001b[39;49m]\u001b[39m*\u001b[39;49mtemplate), template)\n\u001b[1;32m     <a href='vscode-notebook-cell:/home/anqi/bayesee/results/computation/template-matching/simulation/detection-1-f-noise/uncertain-detection-1-f-noise.ipynb#ch0000007?line=17'>18</a>\u001b[0m amp[i\u001b[39m*\u001b[39mn_background\u001b[39m*\u001b[39m\u001b[39m2\u001b[39m:(i\u001b[39m+\u001b[39m\u001b[39m1\u001b[39m)\u001b[39m*\u001b[39mn_background\u001b[39m*\u001b[39m\u001b[39m2\u001b[39m] \u001b[39m=\u001b[39m amp_iter\n\u001b[1;32m     <a href='vscode-notebook-cell:/home/anqi/bayesee/results/computation/template-matching/simulation/detection-1-f-noise/uncertain-detection-1-f-noise.ipynb#ch0000007?line=18'>19</a>\u001b[0m stimulus[i\u001b[39m*\u001b[39mn_background\u001b[39m*\u001b[39m\u001b[39m2\u001b[39m:(i\u001b[39m+\u001b[39m\u001b[39m1\u001b[39m)\u001b[39m*\u001b[39mn_background\u001b[39m*\u001b[39m\u001b[39m2\u001b[39m] \u001b[39m=\u001b[39m stimulus_iter\n",
      "File \u001b[0;32m~/bayesee/bayesee/detector/spotter.py:360\u001b[0m, in \u001b[0;36mUncertainSpotter.give_response\u001b[0;34m(self, img, tar)\u001b[0m\n\u001b[1;32m    359\u001b[0m \u001b[39mdef\u001b[39;00m \u001b[39mgive_response\u001b[39m(\u001b[39mself\u001b[39m, img, tar):\n\u001b[0;32m--> 360\u001b[0m     \u001b[39mself\u001b[39m\u001b[39m.\u001b[39mresponses, \u001b[39mself\u001b[39m\u001b[39m.\u001b[39mpp_img, \u001b[39mself\u001b[39m\u001b[39m.\u001b[39mpp_tar \u001b[39m=\u001b[39m \u001b[39mself\u001b[39;49m\u001b[39m.\u001b[39;49mrespond(img, tar)\n\u001b[1;32m    361\u001b[0m     \u001b[39mif\u001b[39;00m \u001b[39mself\u001b[39m\u001b[39m.\u001b[39muncer[\u001b[39m'\u001b[39m\u001b[39mfocus\u001b[39m\u001b[39m'\u001b[39m] \u001b[39m==\u001b[39m \u001b[39m\"\u001b[39m\u001b[39mmax\u001b[39m\u001b[39m\"\u001b[39m:\n\u001b[1;32m    362\u001b[0m         \u001b[39mself\u001b[39m\u001b[39m.\u001b[39mresponse \u001b[39m=\u001b[39m \u001b[39mself\u001b[39m\u001b[39m.\u001b[39mresponses\u001b[39m.\u001b[39mmax()\n",
      "File \u001b[0;32m~/bayesee/bayesee/detector/spotter.py:76\u001b[0m, in \u001b[0;36mUncertainSpotter.__init__.<locals>.<lambda>\u001b[0;34m(img, tar)\u001b[0m\n\u001b[1;32m     72\u001b[0m             responses[responses\u001b[39m>\u001b[39m\u001b[39m0\u001b[39m] \u001b[39m=\u001b[39m np\u001b[39m.\u001b[39mlog(responses[responses\u001b[39m>\u001b[39m\u001b[39m0\u001b[39m])\n\u001b[1;32m     74\u001b[0m         \u001b[39mreturn\u001b[39;00m responses, img, tar\n\u001b[0;32m---> 76\u001b[0m     \u001b[39mself\u001b[39m\u001b[39m.\u001b[39mrespond \u001b[39m=\u001b[39m \u001b[39mlambda\u001b[39;00m img, tar: func(img, tar, uncer)\n\u001b[1;32m     77\u001b[0m \u001b[39melif\u001b[39;00m \u001b[39mself\u001b[39m\u001b[39m.\u001b[39mmethod \u001b[39m==\u001b[39m \u001b[39m'\u001b[39m\u001b[39mUWTM\u001b[39m\u001b[39m'\u001b[39m:\n\u001b[1;32m     78\u001b[0m     \u001b[39mdef\u001b[39;00m \u001b[39mfunc\u001b[39m(img, tar, whiten, uncer):\n",
      "File \u001b[0;32m~/bayesee/bayesee/detector/spotter.py:69\u001b[0m, in \u001b[0;36mUncertainSpotter.__init__.<locals>.func\u001b[0;34m(img, tar, uncer)\u001b[0m\n\u001b[1;32m     67\u001b[0m likely \u001b[39m=\u001b[39m np\u001b[39m.\u001b[39mzeros_like(img)\n\u001b[1;32m     68\u001b[0m \u001b[39mfor\u001b[39;00m i,j \u001b[39min\u001b[39;00m np\u001b[39m.\u001b[39mndindex(img\u001b[39m.\u001b[39mshape):\n\u001b[0;32m---> 69\u001b[0m     \u001b[39mif\u001b[39;00m circ[i,j] \u001b[39m==\u001b[39m \u001b[39m1\u001b[39m:\n\u001b[1;32m     70\u001b[0m         likely[i,j] \u001b[39m=\u001b[39m \u001b[39mself\u001b[39m\u001b[39m.\u001b[39minner_prod(img, tar, i\u001b[39m-\u001b[39m(tar\u001b[39m.\u001b[39mshape[\u001b[39m0\u001b[39m]\u001b[39m-\u001b[39mtar\u001b[39m.\u001b[39mshape[\u001b[39m0\u001b[39m]\u001b[39m%\u001b[39m\u001b[39m2\u001b[39m)\u001b[39m/\u001b[39m\u001b[39m/\u001b[39m\u001b[39m2\u001b[39m, j\u001b[39m-\u001b[39m(tar\u001b[39m.\u001b[39mshape[\u001b[39m1\u001b[39m]\u001b[39m-\u001b[39mtar\u001b[39m.\u001b[39mshape[\u001b[39m1\u001b[39m]\u001b[39m%\u001b[39m\u001b[39m2\u001b[39m)\u001b[39m/\u001b[39m\u001b[39m/\u001b[39m\u001b[39m2\u001b[39m)\n\u001b[1;32m     71\u001b[0m responses \u001b[39m=\u001b[39m uncer_mat\u001b[39m*\u001b[39mlikely\n",
      "\u001b[0;31mKeyboardInterrupt\u001b[0m: "
     ]
    }
   ],
   "source": [
    "# simulation\n",
    "templates = [rc_template, sine_template, tri_template, sqr_template]\n",
    "backgrounds = [uni_images, cm_images]\n",
    "models = [UTM, UWTM, uni_URTM, uni_UWRTM]\n",
    "amp_init = 0.01\n",
    "\n",
    "thresholds = np.zeros((len(templates), len(backgrounds), len(models)))\n",
    "for t, template in enumerate(templates):\n",
    "    for b, background in enumerate(backgrounds):\n",
    "        thresholds[t,b,0] = linear_cont_th(*detection_1_f_noise(UTM, template, background, amp_init, n_iter))\n",
    "        thresholds[t,b,1] = linear_cont_th(*detection_1_f_noise(UWTM, template, background, amp_init, n_iter))\n",
    "        thresholds[t,b,2] = linear_cont_th(*detection_1_f_noise(uni_URTM, template, background, amp_init, n_iter)) if b==0 else linear_cont_th(*detection_1_f_noise(cm_URTM, template, background, amp_init, n_iter))\n",
    "        thresholds[t,b,3] = linear_cont_th(*detection_1_f_noise(uni_UWRTM, template, background, amp_init, n_iter)) if b==0 else linear_cont_th(*detection_1_f_noise(cm_UWRTM, template, background, amp_init, n_iter))\n",
    "        \n",
    "db_thresholds = decibel(thresholds)        \n",
    "pp(thresholds)"
   ]
  },
  {
   "cell_type": "code",
   "execution_count": 13,
   "metadata": {},
   "outputs": [],
   "source": [
    "# plot function\n",
    "\n",
    "def plot_db_thresholds(db_thresholds, pargs):\n",
    "    n_templates, n_backgrounds, n_models = db_thresholds.shape\n",
    "    n_rows, n_cols = pargs['n_rows'], pargs['n_cols']\n",
    "    fig, axs = subplots(nrows=n_rows, ncols=n_cols, figsize=pargs['figsize'], constrained_layout=True)\n",
    "    db_th_min = db_thresholds.min() - 0.1 * db_thresholds.ptp()\n",
    "    db_th_max = db_thresholds.max() + 0.1 * db_thresholds.ptp()\n",
    "    \n",
    "    for i in range(n_models):\n",
    "        idxes = i//n_rows, i%n_rows\n",
    "        axs[idxes].scatter(pargs['x_tick_labels'], db_thresholds[:,0,i], s=pargs['markersize'], marker=pargs['markers'][i], edgecolor=pargs['colors'][i], facecolor=\"none\", linewidths=pargs['linewidth'], label=pargs['legends'][i])\n",
    "        axs[idxes].scatter(pargs['x_tick_labels'], db_thresholds[:,1,i], s=pargs['markersize'], marker=pargs['markers'][i], edgecolor=pargs['colors'][i], facecolor=pargs['colors'][i], linewidths=pargs['linewidth'])\n",
    "        axs[idxes].set_xlim(-0.5, n_templates-0.5)\n",
    "        axs[idxes].set_ylim(db_th_min, db_th_max)\n",
    "        axs[idxes].legend(loc='best', fontsize=pargs['fontsizes'][1])\n",
    "        \n",
    "        axs[idxes].tick_params(axis='x', which='both', direction='out', length=0, width=0,pad=5, labelsize=pargs['fontsizes'][2], labelbottom=True, labeltop=False, grid_color='k', grid_alpha=1, grid_linewidth=1, grid_linestyle='--')\n",
    "        axs[idxes].grid(visible=True, which='minor', axis='x', linestyle='--', linewidth=pargs['linewidth'])\n",
    "        axs[idxes].tick_params(axis='y', which='major', direction='out', length=12, width=4, pad=3, labelsize=pargs['fontsizes'][2], left=True, right=True, labelleft=True, labelright=True)\n",
    "        axs[idxes].tick_params(axis='y', which='minor', direction='out', length=8, width=4, left=True, right=True, labelleft=False, labelright=False)\n",
    "\n",
    "    fig.text(0.5, -0.05, pargs['x_label'], ha='center', fontsize=pargs['fontsizes'][0])\n",
    "    fig.text(-0.05, 0.5, pargs['y_label'], va='center', rotation='vertical', fontsize=pargs['fontsizes'][0])\n",
    "    savefig('plot_accuracy_' + pargs['plot_name'] + '.svg', dpi=300, bbox_inches='tight')\n",
    "    close()"
   ]
  },
  {
   "cell_type": "code",
   "execution_count": null,
   "metadata": {},
   "outputs": [],
   "source": [
    "# plot\n",
    "n_mod = len(models)\n",
    "n_row = 2\n",
    "n_col = math.ceil(n_mod / 2)\n",
    "pargs = {'plot_name': 'detection-1-f-noise', 'figsize': (20, 8), 'n_rows': n_row, 'n_cols': n_col, 'fontsizes': [36, 18, 15], 'x_label': 'Target', 'y_label': 'Threshold (dB)', 'x_tick_labels': ['rc', 'sine', 'tri', 'sqr'], 'legends': ['TM', 'WTM', 'RTM', 'WRTM'], 'markers': ['D', 'D', 'D', 'D'], 'colors': ['steelblue', 'firebrick', 'forestgreen', 'indigo'], 'markersize': 500, 'linewidth': 3}\n",
    "plot_db_thresholds(db_thresholds, pargs)"
   ]
  },
  {
   "cell_type": "code",
   "execution_count": null,
   "metadata": {},
   "outputs": [],
   "source": []
  }
 ],
 "metadata": {
  "kernelspec": {
   "display_name": "Python 3.10.4 ('bayesee')",
   "language": "python",
   "name": "python3"
  },
  "language_info": {
   "codemirror_mode": {
    "name": "ipython",
    "version": 3
   },
   "file_extension": ".py",
   "mimetype": "text/x-python",
   "name": "python",
   "nbconvert_exporter": "python",
   "pygments_lexer": "ipython3",
   "version": "3.10.4"
  },
  "orig_nbformat": 4,
  "vscode": {
   "interpreter": {
    "hash": "30196c8decfad21500473574aaf69f0b43abe7f587ab43169f5cdb858772bbbd"
   }
  }
 },
 "nbformat": 4,
 "nbformat_minor": 2
}
