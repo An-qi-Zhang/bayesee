{
 "cells": [
  {
   "cell_type": "code",
   "execution_count": 1,
   "metadata": {},
   "outputs": [],
   "source": [
    "# standard libraries\n",
    "import numpy as np\n",
    "import math\n",
    "from pprint import pprint as pp\n",
    "from matplotlib.pyplot import *\n",
    "%matplotlib inline"
   ]
  },
  {
   "cell_type": "code",
   "execution_count": 2,
   "metadata": {},
   "outputs": [],
   "source": [
    "# user library\n",
    "from bayesee.detector.spotter import UncertainSpotter\n",
    "from bayesee.imaging.filter import *\n",
    "from bayesee.imaging.image import *\n",
    "from bayesee.operation.nb2d import *\n",
    "from bayesee.operation.dp import *\n",
    "from bayesee.operation.mathfunc import *"
   ]
  },
  {
   "cell_type": "code",
   "execution_count": 3,
   "metadata": {},
   "outputs": [],
   "source": [
    "# stimulus parameters\n",
    "row = col = 128\n",
    "i_row = i_col = 256\n",
    "ppd = 120\n",
    "cpd = 1.5\n",
    "cpi_v = row * cpd / ppd\n",
    "field_ratio = 8"
   ]
  },
  {
   "cell_type": "code",
   "execution_count": 4,
   "metadata": {},
   "outputs": [],
   "source": [
    "# simulation parameters\n",
    "n_background = 100\n",
    "background_mean = 128\n",
    "background_std = 128 * 0.204\n",
    "n_iter = 3\n",
    "dp_tar = 1"
   ]
  },
  {
   "cell_type": "code",
   "execution_count": 5,
   "metadata": {},
   "outputs": [],
   "source": [
    "# templates\n",
    "rc_template = hann_window(row, col, row/2)\n",
    "rc_template /= nb2dot(rc_template, rc_template)\n",
    "\n",
    "sine_template = hann_window(row, col, row/2) * sine_wave(row, col, (cpi_v,0))\n",
    "sine_template /= nb2dot(sine_template, sine_template)\n",
    "\n",
    "tri_template = hann_window(row, col, row/2) * sine_triangle_wave(row, col, (cpi_v, 0))\n",
    "tri_template /= nb2dot(tri_template, tri_template)\n",
    "\n",
    "sqr_template = hann_window(row, col, row/2) * sine_square_wave(row, col, (cpi_v, 0))\n",
    "sqr_template /= nb2dot(sqr_template, sqr_template)"
   ]
  },
  {
   "cell_type": "code",
   "execution_count": 6,
   "metadata": {},
   "outputs": [],
   "source": [
    "# backgrounds\n",
    "uni_images = np.zeros((i_row, i_col, n_background))\n",
    "cm_images = np.zeros((i_row, i_col, n_background))\n",
    "\n",
    "for i in range(n_background):\n",
    "    uni_images[:,:,i] = power_noise(i_row, i_col, -1, background_mean, background_std)\n",
    "    cm_images[:,:,i] = contrast_modulate_lr(power_noise(i_row, i_col, -1, background_mean, background_std), 4)"
   ]
  },
  {
   "cell_type": "code",
   "execution_count": 7,
   "metadata": {},
   "outputs": [],
   "source": [
    "# spotters\n",
    "uni_weighting_matrix = np.ones((i_row,i_col))\n",
    "cm_weighting_matrix = luminance_modulate_lr(uni_weighting_matrix, 4, flip=True)\n",
    "uncer={'size': 0.083*ppd, 'func': lambda x: np.exp(-x**2/2) * np.sqrt(2*np.pi), 'info': 'prior', 'focus': 'max'}\n",
    "\n",
    "UTM = UncertainSpotter(method='UTM', uncer=uncer)\n",
    "UWTM = UncertainSpotter(method='UWTM', whiten=1, uncer=uncer)\n",
    "uni_URTM = UncertainSpotter(method='URTM', weight=uni_weighting_matrix, uncer=uncer)\n",
    "cm_URTM = UncertainSpotter(method='URTM', weight=cm_weighting_matrix, uncer=uncer)\n",
    "uni_UWRTM = UncertainSpotter(method='UWRTM', whiten=1, weight=uni_weighting_matrix, uncer=uncer)\n",
    "cm_UWRTM = UncertainSpotter(method='UWRTM', whiten=1, weight=cm_weighting_matrix, uncer=uncer)"
   ]
  },
  {
   "cell_type": "code",
   "execution_count": 8,
   "metadata": {},
   "outputs": [],
   "source": [
    "# simulation function\n",
    "def detection_1_f_noise(model, template, background, amp_init, n_iter):\n",
    "    n_total = n_iter * n_background * 2\n",
    "    amp = np.ones((n_total,)) * amp_init\n",
    "    stimulus = np.ones((n_total,))\n",
    "    response = np.ones((n_total,))\n",
    "    amp_iter = np.ones((n_background * 2,))\n",
    "    stimulus_iter = np.ones((n_background * 2,))\n",
    "    response_iter = np.ones((n_background * 2,))\n",
    "\n",
    "    for i in range(n_iter):\n",
    "        for j in range(n_background):\n",
    "            stimulus_iter[2*j] = 0\n",
    "            response_iter[2*j] = model.give_response(background[:,:,j], template)\n",
    "            stimulus_iter[2*j+1] = 1\n",
    "            response_iter[2*j+1] = model.give_response(add_to_center(background[:,:,j], amp_iter[0]*template), template)\n",
    "            \n",
    "        amp[i*n_background*2:(i+1)*n_background*2] = amp_iter\n",
    "        stimulus[i*n_background*2:(i+1)*n_background*2] = stimulus_iter\n",
    "        response[i*n_background*2:(i+1)*n_background*2] = response_iter\n",
    "        dp,_,_ = glm_cont_linear(amp_iter, stimulus_iter, response_iter)\n",
    "        amp_iter[:] *= dp_tar / dp[0] * (np.random.rand() + 0.5)\n",
    "    \n",
    "    return amp, stimulus, response"
   ]
  },
  {
   "cell_type": "code",
   "execution_count": 9,
   "metadata": {},
   "outputs": [
    {
     "ename": "ValueError",
     "evalue": "Each lower bound must be strictly less than each upper bound.",
     "output_type": "error",
     "traceback": [
      "\u001b[1;31m---------------------------------------------------------------------------\u001b[0m",
      "\u001b[1;31mValueError\u001b[0m                                Traceback (most recent call last)",
      "\u001b[1;32mc:\\Users\\anqi\\Documents\\bayesee\\results\\computation\\template-matching\\simulation\\detection-1-f-noise\\uncertain-detection-1-f-noise.ipynb Cell 9'\u001b[0m in \u001b[0;36m<cell line: 8>\u001b[1;34m()\u001b[0m\n\u001b[0;32m      <a href='vscode-notebook-cell:/c%3A/Users/anqi/Documents/bayesee/results/computation/template-matching/simulation/detection-1-f-noise/uncertain-detection-1-f-noise.ipynb#ch0000008?line=8'>9</a>\u001b[0m \u001b[39mfor\u001b[39;00m b, background \u001b[39min\u001b[39;00m \u001b[39menumerate\u001b[39m(backgrounds):\n\u001b[0;32m     <a href='vscode-notebook-cell:/c%3A/Users/anqi/Documents/bayesee/results/computation/template-matching/simulation/detection-1-f-noise/uncertain-detection-1-f-noise.ipynb#ch0000008?line=9'>10</a>\u001b[0m     temp_data \u001b[39m=\u001b[39m detection_1_f_noise(UTM, template, background, amp_init, n_iter)\n\u001b[1;32m---> <a href='vscode-notebook-cell:/c%3A/Users/anqi/Documents/bayesee/results/computation/template-matching/simulation/detection-1-f-noise/uncertain-detection-1-f-noise.ipynb#ch0000008?line=10'>11</a>\u001b[0m     thresholds[t,b,\u001b[39m0\u001b[39m] \u001b[39m=\u001b[39m uncertain_cont_th(\u001b[39m*\u001b[39;49mtemp_data)\n\u001b[0;32m     <a href='vscode-notebook-cell:/c%3A/Users/anqi/Documents/bayesee/results/computation/template-matching/simulation/detection-1-f-noise/uncertain-detection-1-f-noise.ipynb#ch0000008?line=11'>12</a>\u001b[0m     thresholds[t,b,\u001b[39m1\u001b[39m] \u001b[39m=\u001b[39m uncertain_cont_th(\u001b[39m*\u001b[39mdetection_1_f_noise(UWTM, template, background, amp_init, n_iter))\n\u001b[0;32m     <a href='vscode-notebook-cell:/c%3A/Users/anqi/Documents/bayesee/results/computation/template-matching/simulation/detection-1-f-noise/uncertain-detection-1-f-noise.ipynb#ch0000008?line=12'>13</a>\u001b[0m     thresholds[t,b,\u001b[39m2\u001b[39m] \u001b[39m=\u001b[39m uncertain_cont_th(\u001b[39m*\u001b[39mdetection_1_f_noise(uni_URTM, template, background, amp_init, n_iter)) \u001b[39mif\u001b[39;00m b\u001b[39m==\u001b[39m\u001b[39m0\u001b[39m \u001b[39melse\u001b[39;00m uncertain_cont_th(\u001b[39m*\u001b[39mdetection_1_f_noise(cm_URTM, template, background, amp_init, n_iter))\n",
      "File \u001b[1;32mc:\\users\\anqi\\documents\\bayesee\\bayesee\\operation\\dp.py:114\u001b[0m, in \u001b[0;36muncertain_cont_th\u001b[1;34m(amp, stimulus, response)\u001b[0m\n\u001b[0;32m    113\u001b[0m \u001b[39mdef\u001b[39;00m \u001b[39muncertain_cont_th\u001b[39m(amp, stimulus, response):\n\u001b[1;32m--> 114\u001b[0m     alpha, beta \u001b[39m=\u001b[39m glm_cont_uncertainty(amp, stimulus, response)\n\u001b[0;32m    115\u001b[0m     \u001b[39mreturn\u001b[39;00m np\u001b[39m.\u001b[39mlog(np\u001b[39m.\u001b[39me\u001b[39m*\u001b[39m(\u001b[39m1\u001b[39m\u001b[39m+\u001b[39mbeta)\u001b[39m-\u001b[39mbeta)\u001b[39m/\u001b[39malpha\n",
      "File \u001b[1;32mc:\\users\\anqi\\documents\\bayesee\\bayesee\\operation\\dp.py:93\u001b[0m, in \u001b[0;36mglm_cont_uncertainty\u001b[1;34m(amp, stimulus, response)\u001b[0m\n\u001b[0;32m     87\u001b[0m \u001b[39mdef\u001b[39;00m \u001b[39mglm_cont_uncertainty\u001b[39m(amp, stimulus, response):\n\u001b[0;32m     88\u001b[0m     \u001b[39m# amp with values that are same or different or hybrid\u001b[39;00m\n\u001b[0;32m     89\u001b[0m     \u001b[39m# stimulus: 0-a 1-b\u001b[39;00m\n\u001b[0;32m     90\u001b[0m     \u001b[39m# response: continuous response\u001b[39;00m\n\u001b[0;32m     92\u001b[0m     dp, gamma \u001b[39m=\u001b[39m glm_cont(amp, stimulus, response)\n\u001b[1;32m---> 93\u001b[0m     (alpha, beta),_ \u001b[39m=\u001b[39m curve_fit(uncertain_dp_amp, amp, dp, bounds\u001b[39m=\u001b[39;49m((\u001b[39m0\u001b[39;49m,np\u001b[39m.\u001b[39;49minf), (\u001b[39m0\u001b[39;49m,np\u001b[39m.\u001b[39;49minf)))\n\u001b[0;32m     94\u001b[0m     \u001b[39mreturn\u001b[39;00m dp, gamma, alpha, beta\n",
      "File \u001b[1;32mc:\\Users\\anqi\\Miniconda3\\envs\\gpu-bayesee\\lib\\site-packages\\scipy\\optimize\\minpack.py:800\u001b[0m, in \u001b[0;36mcurve_fit\u001b[1;34m(f, xdata, ydata, p0, sigma, absolute_sigma, check_finite, bounds, method, jac, **kwargs)\u001b[0m\n\u001b[0;32m    797\u001b[0m \u001b[39mif\u001b[39;00m \u001b[39m'\u001b[39m\u001b[39mmax_nfev\u001b[39m\u001b[39m'\u001b[39m \u001b[39mnot\u001b[39;00m \u001b[39min\u001b[39;00m kwargs:\n\u001b[0;32m    798\u001b[0m     kwargs[\u001b[39m'\u001b[39m\u001b[39mmax_nfev\u001b[39m\u001b[39m'\u001b[39m] \u001b[39m=\u001b[39m kwargs\u001b[39m.\u001b[39mpop(\u001b[39m'\u001b[39m\u001b[39mmaxfev\u001b[39m\u001b[39m'\u001b[39m, \u001b[39mNone\u001b[39;00m)\n\u001b[1;32m--> 800\u001b[0m res \u001b[39m=\u001b[39m least_squares(func, p0, jac\u001b[39m=\u001b[39mjac, bounds\u001b[39m=\u001b[39mbounds, method\u001b[39m=\u001b[39mmethod,\n\u001b[0;32m    801\u001b[0m                     \u001b[39m*\u001b[39m\u001b[39m*\u001b[39mkwargs)\n\u001b[0;32m    803\u001b[0m \u001b[39mif\u001b[39;00m \u001b[39mnot\u001b[39;00m res\u001b[39m.\u001b[39msuccess:\n\u001b[0;32m    804\u001b[0m     \u001b[39mraise\u001b[39;00m \u001b[39mRuntimeError\u001b[39;00m(\u001b[39m\"\u001b[39m\u001b[39mOptimal parameters not found: \u001b[39m\u001b[39m\"\u001b[39m \u001b[39m+\u001b[39m res\u001b[39m.\u001b[39mmessage)\n",
      "File \u001b[1;32mc:\\Users\\anqi\\Miniconda3\\envs\\gpu-bayesee\\lib\\site-packages\\scipy\\optimize\\_lsq\\least_squares.py:804\u001b[0m, in \u001b[0;36mleast_squares\u001b[1;34m(fun, x0, jac, bounds, method, ftol, xtol, gtol, x_scale, loss, f_scale, diff_step, tr_solver, tr_options, jac_sparsity, max_nfev, verbose, args, kwargs)\u001b[0m\n\u001b[0;32m    801\u001b[0m     \u001b[39mraise\u001b[39;00m \u001b[39mValueError\u001b[39;00m(\u001b[39m\"\u001b[39m\u001b[39mInconsistent shapes between bounds and `x0`.\u001b[39m\u001b[39m\"\u001b[39m)\n\u001b[0;32m    803\u001b[0m \u001b[39mif\u001b[39;00m np\u001b[39m.\u001b[39many(lb \u001b[39m>\u001b[39m\u001b[39m=\u001b[39m ub):\n\u001b[1;32m--> 804\u001b[0m     \u001b[39mraise\u001b[39;00m \u001b[39mValueError\u001b[39;00m(\u001b[39m\"\u001b[39m\u001b[39mEach lower bound must be strictly less than each \u001b[39m\u001b[39m\"\u001b[39m\n\u001b[0;32m    805\u001b[0m                      \u001b[39m\"\u001b[39m\u001b[39mupper bound.\u001b[39m\u001b[39m\"\u001b[39m)\n\u001b[0;32m    807\u001b[0m \u001b[39mif\u001b[39;00m \u001b[39mnot\u001b[39;00m in_bounds(x0, lb, ub):\n\u001b[0;32m    808\u001b[0m     \u001b[39mraise\u001b[39;00m \u001b[39mValueError\u001b[39;00m(\u001b[39m\"\u001b[39m\u001b[39m`x0` is infeasible.\u001b[39m\u001b[39m\"\u001b[39m)\n",
      "\u001b[1;31mValueError\u001b[0m: Each lower bound must be strictly less than each upper bound."
     ]
    }
   ],
   "source": [
    "# simulation\n",
    "templates = [rc_template, sine_template, tri_template, sqr_template]\n",
    "backgrounds = [uni_images, cm_images]\n",
    "models = [UTM, UWTM, uni_URTM, uni_UWRTM]\n",
    "amp_init = 0.01\n",
    "\n",
    "thresholds = np.zeros((len(templates), len(backgrounds), len(models)))\n",
    "for t, template in enumerate(templates):\n",
    "    for b, background in enumerate(backgrounds):\n",
    "        temp_data = detection_1_f_noise(UTM, template, background, amp_init, n_iter)\n",
    "        thresholds[t,b,0] = uncertain_cont_th(*temp_data)\n",
    "        thresholds[t,b,1] = uncertain_cont_th(*detection_1_f_noise(UWTM, template, background, amp_init, n_iter))\n",
    "        thresholds[t,b,2] = uncertain_cont_th(*detection_1_f_noise(uni_URTM, template, background, amp_init, n_iter)) if b==0 else uncertain_cont_th(*detection_1_f_noise(cm_URTM, template, background, amp_init, n_iter))\n",
    "        thresholds[t,b,3] = uncertain_cont_th(*detection_1_f_noise(uni_UWRTM, template, background, amp_init, n_iter)) if b==0 else uncertain_cont_th(*detection_1_f_noise(cm_UWRTM, template, background, amp_init, n_iter))\n",
    "        \n",
    "db_thresholds = decibel(thresholds)        \n",
    "pp(thresholds)"
   ]
  },
  {
   "cell_type": "code",
   "execution_count": null,
   "metadata": {},
   "outputs": [],
   "source": [
    "# plot function\n",
    "\n",
    "def plot_db_thresholds(db_thresholds, pargs):\n",
    "    n_templates, n_backgrounds, n_models = db_thresholds.shape\n",
    "    n_rows, n_cols = pargs['n_rows'], pargs['n_cols']\n",
    "    fig, axs = subplots(nrows=n_rows, ncols=n_cols, figsize=pargs['figsize'], constrained_layout=True)\n",
    "    db_th_min = db_thresholds.min() - 0.1 * db_thresholds.ptp()\n",
    "    db_th_max = db_thresholds.max() + 0.1 * db_thresholds.ptp()\n",
    "    \n",
    "    for i in range(n_models):\n",
    "        idxes = i//n_rows, i%n_rows\n",
    "        axs[idxes].scatter(pargs['x_tick_labels'], db_thresholds[:,0,i], s=pargs['markersize'], marker=pargs['markers'][i], edgecolor=pargs['colors'][i], facecolor=\"none\", linewidths=pargs['linewidth'], label=pargs['legends'][i])\n",
    "        axs[idxes].scatter(pargs['x_tick_labels'], db_thresholds[:,1,i], s=pargs['markersize'], marker=pargs['markers'][i], edgecolor=pargs['colors'][i], facecolor=pargs['colors'][i], linewidths=pargs['linewidth'])\n",
    "        axs[idxes].set_xlim(-0.5, n_templates-0.5)\n",
    "        axs[idxes].set_ylim(db_th_min, db_th_max)\n",
    "        axs[idxes].legend(loc='best', fontsize=pargs['fontsizes'][1])\n",
    "        \n",
    "        axs[idxes].tick_params(axis='x', which='both', direction='out', length=0, width=0,pad=5, labelsize=pargs['fontsizes'][2], labelbottom=True, labeltop=False, grid_color='k', grid_alpha=1, grid_linewidth=1, grid_linestyle='--')\n",
    "        axs[idxes].grid(visible=True, which='minor', axis='x', linestyle='--', linewidth=pargs['linewidth'])\n",
    "        axs[idxes].tick_params(axis='y', which='major', direction='out', length=12, width=4, pad=3, labelsize=pargs['fontsizes'][2], left=True, right=True, labelleft=True, labelright=True)\n",
    "        axs[idxes].tick_params(axis='y', which='minor', direction='out', length=8, width=4, left=True, right=True, labelleft=False, labelright=False)\n",
    "\n",
    "    fig.text(0.5, -0.05, pargs['x_label'], ha='center', fontsize=pargs['fontsizes'][0])\n",
    "    fig.text(-0.05, 0.5, pargs['y_label'], va='center', rotation='vertical', fontsize=pargs['fontsizes'][0])\n",
    "    savefig('plot_accuracy_' + pargs['plot_name'] + '.svg', dpi=300, bbox_inches='tight')\n",
    "    close()"
   ]
  },
  {
   "cell_type": "code",
   "execution_count": null,
   "metadata": {},
   "outputs": [],
   "source": [
    "# plot\n",
    "n_mod = len(models)\n",
    "n_row = 2\n",
    "n_col = math.ceil(n_mod / 2)\n",
    "pargs = {'plot_name': 'uncertain-detection-1-f-noise', 'figsize': (20, 8), 'n_rows': n_row, 'n_cols': n_col, 'fontsizes': [36, 18, 15], 'x_label': 'Target', 'y_label': 'Threshold (dB)', 'x_tick_labels': ['rc', 'sine', 'tri', 'sqr'], 'legends': ['TM', 'WTM', 'RTM', 'WRTM'], 'markers': ['D', 'D', 'D', 'D'], 'colors': ['steelblue', 'firebrick', 'forestgreen', 'indigo'], 'markersize': 500, 'linewidth': 3}\n",
    "plot_db_thresholds(db_thresholds, pargs)"
   ]
  },
  {
   "cell_type": "code",
   "execution_count": null,
   "metadata": {},
   "outputs": [],
   "source": []
  }
 ],
 "metadata": {
  "interpreter": {
   "hash": "cdc6791e7efb8b2c509ab860fa200884e726e855328caba8b31c0d9c15abe09d"
  },
  "kernelspec": {
   "display_name": "Python 3.10.4 ('gpu-bayesee')",
   "language": "python",
   "name": "python3"
  },
  "language_info": {
   "codemirror_mode": {
    "name": "ipython",
    "version": 3
   },
   "file_extension": ".py",
   "mimetype": "text/x-python",
   "name": "python",
   "nbconvert_exporter": "python",
   "pygments_lexer": "ipython3",
   "version": "3.10.4"
  },
  "orig_nbformat": 4,
  "vscode": {
   "interpreter": {
    "hash": "30196c8decfad21500473574aaf69f0b43abe7f587ab43169f5cdb858772bbbd"
   }
  }
 },
 "nbformat": 4,
 "nbformat_minor": 2
}
