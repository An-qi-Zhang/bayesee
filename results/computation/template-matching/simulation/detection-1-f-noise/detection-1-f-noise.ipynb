{
 "cells": [
  {
   "cell_type": "code",
   "execution_count": 1,
   "metadata": {},
   "outputs": [],
   "source": [
    "# standard libraries\n",
    "import numpy as np\n",
    "from pprint import pprint as pp\n",
    "from matplotlib.pyplot import *\n",
    "%matplotlib inline"
   ]
  },
  {
   "cell_type": "code",
   "execution_count": 2,
   "metadata": {},
   "outputs": [],
   "source": [
    "# user library\n",
    "from bayesee.detector.spotter import Spotter\n",
    "from bayesee.imaging.filter import *\n",
    "from bayesee.imaging.image import *\n",
    "from bayesee.operation.nb2d import *\n",
    "from bayesee.operation.dp import *"
   ]
  },
  {
   "cell_type": "code",
   "execution_count": 3,
   "metadata": {},
   "outputs": [],
   "source": [
    "# stimulus parameters\n",
    "row = col = 128\n",
    "ppd = 120\n",
    "cpd = 1.5\n",
    "cpi_v = row * cpd / ppd\n",
    "field_ratio = 8"
   ]
  },
  {
   "cell_type": "code",
   "execution_count": 4,
   "metadata": {},
   "outputs": [],
   "source": [
    "# simulation parameters\n",
    "n_background = 1000\n",
    "n_iter = 10\n",
    "dp_tar = 1"
   ]
  },
  {
   "cell_type": "code",
   "execution_count": 5,
   "metadata": {},
   "outputs": [],
   "source": [
    "# targets\n",
    "rc_target = hann_window(row, col, row/2)\n",
    "rc_target /= nb2dot(rc_target, rc_target)\n",
    "\n",
    "sine_target = hann_window(row, col, row/2) * sine_wave(row, col, (cpi_v,0))\n",
    "sine_target /= nb2dot(sine_target, sine_target)\n",
    "\n",
    "tri_target = hann_window(row, col, row/2) * sine_triangle_wave(row, col, (cpi_v, 0))\n",
    "tri_target /= nb2dot(tri_target, tri_target)\n",
    "\n",
    "sqr_target = hann_window(row, col, row/2) * sine_square_wave(row, col, (cpi_v, 0))\n",
    "sqr_target /= nb2dot(sqr_target, sqr_target)"
   ]
  },
  {
   "cell_type": "code",
   "execution_count": 6,
   "metadata": {},
   "outputs": [],
   "source": [
    "# backgrounds\n",
    "uni_images, field = power_noise_patches(row, col, row*field_ratio, col*field_ratio, -1, n_background)\n",
    "pre_cm_images, _ = power_noise_patches(row, col, row*field_ratio, col*field_ratio, -1, n_background)\n",
    "cm_images = np.zeros_like(pre_cm_images)\n",
    "\n",
    "for i in range(n_background):\n",
    "    cm_images[:,:,i] = contrast_modulate_lr(pre_cm_images[:,:,i], 4)"
   ]
  },
  {
   "cell_type": "code",
   "execution_count": 7,
   "metadata": {},
   "outputs": [],
   "source": [
    "# spotters\n",
    "uni_weighting_matrix = np.ones((row,col))\n",
    "cm_weighting_matrix = luminance_modulate_lr(uni_weighting_matrix, 4, flip=True)\n",
    "TM = Spotter(method='TM')\n",
    "WTM = Spotter(method='WTM', whiten=1)\n",
    "uni_RTM = Spotter(method='RTM', weight=uni_weighting_matrix)\n",
    "cm_RTM = Spotter(method='RTM', weight=cm_weighting_matrix)\n",
    "uni_WRTM = Spotter(method='WRTM', whiten=1, weight=uni_weighting_matrix)\n",
    "cm_WRTM = Spotter(method='WRTM', weight=cm_weighting_matrix)"
   ]
  },
  {
   "cell_type": "code",
   "execution_count": 17,
   "metadata": {},
   "outputs": [],
   "source": [
    "# simulation\n",
    "def detection_1_f_noise(model, template, background, amp_init, n_iter):\n",
    "    n_total = n_iter * n_background * 2\n",
    "    amp = np.ones((n_total,)) * amp_init\n",
    "    stimulus = np.ones((n_total,))\n",
    "    response = np.ones((n_total,))\n",
    "    amp_iter = np.ones((n_background * 2,))\n",
    "    stimulus_iter = np.ones((n_background * 2,))\n",
    "    response_iter = np.ones((n_background * 2,))\n",
    "\n",
    "    for i in range(n_iter):\n",
    "        for j in range(n_background):\n",
    "            stimulus_iter[2*j] = 0\n",
    "            response_iter[2*j] = model.give_response(background[:,:,j], template)\n",
    "            stimulus_iter[2*j+1] = 1\n",
    "            response_iter[2*j+1] = model.give_response(add_to_center(background[:,:,j], amp_iter[0]*template), template)\n",
    "            \n",
    "        amp[i*n_background*2:(i+1)*n_background*2] = amp_iter\n",
    "        stimulus[i*n_background*2:(i+1)*n_background*2] = stimulus_iter\n",
    "        response[i*n_background*2:(i+1)*n_background*2] = response_iter\n",
    "        dp,_,_ = glm_cont_linear(amp_iter, stimulus_iter, response_iter)\n",
    "        amp_iter[:] *= dp_tar / dp[0] * (np.random.rand() + 0.5)\n",
    "    \n",
    "    return amp, stimulus, response"
   ]
  },
  {
   "cell_type": "code",
   "execution_count": 20,
   "metadata": {},
   "outputs": [
    {
     "ename": "TypeError",
     "evalue": "linear_cont_th() missing 2 required positional arguments: 'stimulus' and 'response'",
     "output_type": "error",
     "traceback": [
      "\u001b[1;31m---------------------------------------------------------------------------\u001b[0m",
      "\u001b[1;31mTypeError\u001b[0m                                 Traceback (most recent call last)",
      "\u001b[1;32mc:\\Users\\anqi\\My Drive\\3-CODE\\1-Python\\1-RESEARCH\\bayesee\\results\\computation\\template-matching\\simulation\\detection-1-f-noise\\detection-1-f-noise.ipynb Cell 9'\u001b[0m in \u001b[0;36m<cell line: 8>\u001b[1;34m()\u001b[0m\n\u001b[0;32m      <a href='vscode-notebook-cell:/c%3A/Users/anqi/My%20Drive/3-CODE/1-Python/1-RESEARCH/bayesee/results/computation/template-matching/simulation/detection-1-f-noise/detection-1-f-noise.ipynb#ch0000023?line=7'>8</a>\u001b[0m \u001b[39mfor\u001b[39;00m t, template \u001b[39min\u001b[39;00m \u001b[39menumerate\u001b[39m(templates):\n\u001b[0;32m      <a href='vscode-notebook-cell:/c%3A/Users/anqi/My%20Drive/3-CODE/1-Python/1-RESEARCH/bayesee/results/computation/template-matching/simulation/detection-1-f-noise/detection-1-f-noise.ipynb#ch0000023?line=8'>9</a>\u001b[0m     \u001b[39mfor\u001b[39;00m b, background \u001b[39min\u001b[39;00m \u001b[39menumerate\u001b[39m(backgrounds):\n\u001b[1;32m---> <a href='vscode-notebook-cell:/c%3A/Users/anqi/My%20Drive/3-CODE/1-Python/1-RESEARCH/bayesee/results/computation/template-matching/simulation/detection-1-f-noise/detection-1-f-noise.ipynb#ch0000023?line=9'>10</a>\u001b[0m         thresholds[t,b,\u001b[39m0\u001b[39m] \u001b[39m=\u001b[39m linear_cont_th(detection_1_f_noise(TM, template, background, amp_init, n_iter))\n\u001b[0;32m     <a href='vscode-notebook-cell:/c%3A/Users/anqi/My%20Drive/3-CODE/1-Python/1-RESEARCH/bayesee/results/computation/template-matching/simulation/detection-1-f-noise/detection-1-f-noise.ipynb#ch0000023?line=10'>11</a>\u001b[0m         thresholds[t,b,\u001b[39m1\u001b[39m] \u001b[39m=\u001b[39m linear_cont_th(detection_1_f_noise(WTM, template, background, amp_init, n_iter))\n\u001b[0;32m     <a href='vscode-notebook-cell:/c%3A/Users/anqi/My%20Drive/3-CODE/1-Python/1-RESEARCH/bayesee/results/computation/template-matching/simulation/detection-1-f-noise/detection-1-f-noise.ipynb#ch0000023?line=11'>12</a>\u001b[0m         thresholds[t,b,\u001b[39m2\u001b[39m] \u001b[39m=\u001b[39m linear_cont_th(detection_1_f_noise(uni_RTM, template, background, amp_init, n_iter)) \u001b[39mif\u001b[39;00m b\u001b[39m==\u001b[39m\u001b[39m0\u001b[39m \u001b[39melse\u001b[39;00m linear_cont_th(detection_1_f_noise(cm_RTM, template, background, amp_init, n_iter))\n",
      "\u001b[1;31mTypeError\u001b[0m: linear_cont_th() missing 2 required positional arguments: 'stimulus' and 'response'"
     ]
    }
   ],
   "source": [
    "# test\n",
    "templates = [rc_target, sine_target, tri_target, sqr_target]\n",
    "backgrounds = [uni_images, cm_images]\n",
    "models = [TM, WTM, uni_RTM, uni_WRTM]\n",
    "amp_init = 0.01\n",
    "\n",
    "thresholds = np.zeros((len(templates), len(backgrounds), len(models)))\n",
    "for t, template in enumerate(templates):\n",
    "    for b, background in enumerate(backgrounds):\n",
    "        thresholds[t,b,0] = linear_cont_th(*detection_1_f_noise(TM, template, background, amp_init, n_iter))\n",
    "        thresholds[t,b,1] = linear_cont_th(*detection_1_f_noise(WTM, template, background, amp_init, n_iter))\n",
    "        thresholds[t,b,2] = linear_cont_th(*detection_1_f_noise(uni_RTM, template, background, amp_init, n_iter)) if b==0 else linear_cont_th(*detection_1_f_noise(cm_RTM, template, background, amp_init, n_iter))\n",
    "        thresholds[t,b,3] = linear_cont_th(*detection_1_f_noise(uni_WRTM, template, background, amp_init, n_iter)) if b==0 else linear_cont_th(*detection_1_f_noise(cm_WRTM, template, background, amp_init, n_iter))"
   ]
  }
 ],
 "metadata": {
  "interpreter": {
   "hash": "d802357fdd3ce5041355d9cb92c9cbc49e9706cfe003f522dbe55329eb8ccaf7"
  },
  "kernelspec": {
   "display_name": "Python 3.10.4 ('bayesee')",
   "language": "python",
   "name": "python3"
  },
  "language_info": {
   "codemirror_mode": {
    "name": "ipython",
    "version": 3
   },
   "file_extension": ".py",
   "mimetype": "text/x-python",
   "name": "python",
   "nbconvert_exporter": "python",
   "pygments_lexer": "ipython3",
   "version": "3.10.4"
  },
  "orig_nbformat": 4
 },
 "nbformat": 4,
 "nbformat_minor": 2
}
