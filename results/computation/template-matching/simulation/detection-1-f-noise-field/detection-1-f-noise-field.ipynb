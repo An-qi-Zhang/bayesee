{
 "cells": [
  {
   "cell_type": "code",
   "execution_count": 1,
   "metadata": {},
   "outputs": [],
   "source": [
    "# standard libraries\n",
    "import numpy as np\n",
    "import math\n",
    "from pprint import pprint as pp\n",
    "from matplotlib.pyplot import *\n",
    "%matplotlib inline"
   ]
  },
  {
   "cell_type": "code",
   "execution_count": 2,
   "metadata": {},
   "outputs": [],
   "source": [
    "# user library\n",
    "from bayesee.detector.spotter import Spotter\n",
    "from bayesee.imaging.filter import *\n",
    "from bayesee.imaging.image import *\n",
    "from bayesee.operation.nb2d import *\n",
    "from bayesee.operation.dp import *\n",
    "from bayesee.operation.mathfunc import *"
   ]
  },
  {
   "cell_type": "code",
   "execution_count": 3,
   "metadata": {},
   "outputs": [],
   "source": [
    "# stimulus parameters\n",
    "row = col = 128\n",
    "ppd = 120\n",
    "cpd = 1.5\n",
    "cpi_v = row * cpd / ppd\n",
    "field_ratio = 8"
   ]
  },
  {
   "cell_type": "code",
   "execution_count": 4,
   "metadata": {},
   "outputs": [],
   "source": [
    "# simulation parameters\n",
    "n_background = 1000\n",
    "background_mean = 128\n",
    "background_std = 128 * 0.204\n",
    "n_iter = 10\n",
    "dp_tar = 1"
   ]
  },
  {
   "cell_type": "code",
   "execution_count": 5,
   "metadata": {},
   "outputs": [],
   "source": [
    "# templates\n",
    "rc_template = hann_window(row, col, row/2)\n",
    "rc_template /= nb2dot(rc_template, rc_template)\n",
    "\n",
    "sine_template = hann_window(row, col, row/2) * sine_wave(row, col, (cpi_v,0))\n",
    "sine_template /= nb2dot(sine_template, sine_template)\n",
    "\n",
    "tri_template = hann_window(row, col, row/2) * sine_triangle_wave(row, col, (cpi_v, 0))\n",
    "tri_template /= nb2dot(tri_template, tri_template)\n",
    "\n",
    "sqr_template = hann_window(row, col, row/2) * sine_square_wave(row, col, (cpi_v, 0))\n",
    "sqr_template /= nb2dot(sqr_template, sqr_template)"
   ]
  },
  {
   "cell_type": "code",
   "execution_count": 6,
   "metadata": {},
   "outputs": [],
   "source": [
    "# backgrounds\n",
    "uni_images, field = power_noise_patches(row, col, row*field_ratio, col*field_ratio, -1, n_background, background_mean, background_std)\n",
    "pre_cm_images, _ = power_noise_patches(row, col, row*field_ratio, col*field_ratio, -1, n_background, background_mean, background_std)\n",
    "cm_images = np.zeros_like(pre_cm_images)\n",
    "\n",
    "for i in range(n_background):\n",
    "    cm_images[:,:,i] = contrast_modulate_lr(pre_cm_images[:,:,i], 4)"
   ]
  },
  {
   "cell_type": "code",
   "execution_count": 7,
   "metadata": {},
   "outputs": [],
   "source": [
    "# spotters\n",
    "uni_weighting_matrix = np.ones((row,col))\n",
    "cm_weighting_matrix = luminance_modulate_lr(uni_weighting_matrix, 4, flip=True)\n",
    "TM = Spotter(method='TM')\n",
    "WTM = Spotter(method='WTM', whiten=1)\n",
    "uni_RTM = Spotter(method='RTM', weight=uni_weighting_matrix)\n",
    "cm_RTM = Spotter(method='RTM', weight=cm_weighting_matrix)\n",
    "uni_WRTM = Spotter(method='WRTM', whiten=1, weight=uni_weighting_matrix)\n",
    "cm_WRTM = Spotter(method='WRTM', whiten=1, weight=cm_weighting_matrix)"
   ]
  },
  {
   "cell_type": "code",
   "execution_count": 8,
   "metadata": {},
   "outputs": [],
   "source": [
    "# simulation function\n",
    "def detection_1_f_noise(model, template, background, amp_init, n_iter):\n",
    "    n_total = n_iter * n_background * 2\n",
    "    amp = np.ones((n_total,)) * amp_init\n",
    "    stimulus = np.ones((n_total,))\n",
    "    response = np.ones((n_total,))\n",
    "    amp_iter = np.ones((n_background * 2,)) * amp_init\n",
    "    stimulus_iter = np.ones((n_background * 2,))\n",
    "    response_iter = np.ones((n_background * 2,))\n",
    "\n",
    "    for i in range(n_iter):\n",
    "        for j in range(n_background):\n",
    "            stimulus_iter[2*j] = 0\n",
    "            response_iter[2*j] = model.give_response(background[:,:,j], template)\n",
    "            stimulus_iter[2*j+1] = 1\n",
    "            response_iter[2*j+1] = model.give_response(add_to_center(background[:,:,j], amp_iter[0]*template), template)\n",
    "            \n",
    "        amp[i*n_background*2:(i+1)*n_background*2] = amp_iter\n",
    "        stimulus[i*n_background*2:(i+1)*n_background*2] = stimulus_iter\n",
    "        response[i*n_background*2:(i+1)*n_background*2] = response_iter\n",
    "            \n",
    "        if np.isnan(amp_iter).any() or np.isinf(amp_iter).any():\n",
    "            amp_iter[:] = (np.random.rand() + 0.5) * amp_init / (2**i)\n",
    "        else:\n",
    "            dp,_,_ = glm_cont_linear(amp_iter, stimulus_iter, response_iter)\n",
    "            amp_iter[:] *= dp_tar / dp[0] * (np.random.rand() + 0.5)\n",
    "    \n",
    "    return amp, stimulus, response"
   ]
  },
  {
   "cell_type": "code",
   "execution_count": 9,
   "metadata": {},
   "outputs": [
    {
     "name": "stdout",
     "output_type": "stream",
     "text": [
      "array([[[44259.64025299, 49722.06562307, 33388.9193978 , 50447.87448009],\n",
      "        [34889.64023406, 43293.83650574, 13550.09209327, 13582.47105833]],\n",
      "\n",
      "       [[15233.63710615, 13443.661618  , 15233.63710615, 14105.89262113],\n",
      "        [13042.8378349 , 12056.76451106,  6159.62871071,  2019.93994299]],\n",
      "\n",
      "       [[12396.8558256 ,  9338.26252776, 12396.8558256 ,  9667.11558221],\n",
      "        [10601.82534359,  8687.15377601,  5000.68317367,  1656.18448408]],\n",
      "\n",
      "       [[19308.10294108,  2165.11773319, 19342.65406   ,  2178.29966282],\n",
      "        [16772.2876068 ,  2204.35624877,  7927.03705084,   987.5312411 ]]])\n"
     ]
    }
   ],
   "source": [
    "# simulation\n",
    "templates = [rc_template, sine_template, tri_template, sqr_template]\n",
    "backgrounds = [uni_images, cm_images]\n",
    "models = [TM, WTM, uni_RTM, uni_WRTM]\n",
    "amp_init = 0.01\n",
    "\n",
    "thresholds = np.zeros((len(templates), len(backgrounds), len(models)))\n",
    "for t, template in enumerate(templates):\n",
    "    for b, background in enumerate(backgrounds):\n",
    "        thresholds[t,b,0] = linear_cont_th(*detection_1_f_noise(TM, template, background, amp_init, n_iter))\n",
    "        thresholds[t,b,1] = linear_cont_th(*detection_1_f_noise(WTM, template, background, amp_init, n_iter))\n",
    "        thresholds[t,b,2] = linear_cont_th(*detection_1_f_noise(uni_RTM, template, background, amp_init, n_iter)) if b==0 else linear_cont_th(*detection_1_f_noise(cm_RTM, template, background, amp_init, n_iter))\n",
    "        thresholds[t,b,3] = linear_cont_th(*detection_1_f_noise(uni_WRTM, template, background, amp_init, n_iter)) if b==0 else linear_cont_th(*detection_1_f_noise(cm_WRTM, template, background, amp_init, n_iter))\n",
    "        \n",
    "db_thresholds = decibel(thresholds)        \n",
    "pp(thresholds)"
   ]
  },
  {
   "cell_type": "code",
   "execution_count": 10,
   "metadata": {},
   "outputs": [],
   "source": [
    "# plot function\n",
    "\n",
    "def plot_db_thresholds(db_thresholds, pargs):\n",
    "    n_templates, n_backgrounds, n_models = db_thresholds.shape\n",
    "    n_rows, n_cols = pargs['n_rows'], pargs['n_cols']\n",
    "    fig, axs = subplots(nrows=n_rows, ncols=n_cols, figsize=pargs['figsize'], constrained_layout=True)\n",
    "    db_th_min = db_thresholds.min() - 0.1 * db_thresholds.ptp()\n",
    "    db_th_max = db_thresholds.max() + 0.1 * db_thresholds.ptp()\n",
    "    \n",
    "    for i in range(n_models):\n",
    "        idxes = i//n_rows, i%n_rows\n",
    "        axs[idxes].scatter(pargs['x_tick_labels'], db_thresholds[:,0,i], s=pargs['markersize'], marker=pargs['markers'][i], edgecolor=pargs['colors'][i], facecolor=\"none\", linewidths=pargs['linewidth'], label=pargs['legends'][i])\n",
    "        axs[idxes].scatter(pargs['x_tick_labels'], db_thresholds[:,1,i], s=pargs['markersize'], marker=pargs['markers'][i], edgecolor=pargs['colors'][i], facecolor=pargs['colors'][i], linewidths=pargs['linewidth'])\n",
    "        axs[idxes].set_xlim(-0.5, n_templates-0.5)\n",
    "        axs[idxes].set_ylim(db_th_min, db_th_max)\n",
    "        axs[idxes].legend(loc='best', fontsize=pargs['fontsizes'][1])\n",
    "        \n",
    "        axs[idxes].tick_params(axis='x', which='both', direction='out', length=0, width=0,pad=5, labelsize=pargs['fontsizes'][2], labelbottom=True, labeltop=False, grid_color='k', grid_alpha=1, grid_linewidth=1, grid_linestyle='--')\n",
    "        axs[idxes].grid(visible=True, which='minor', axis='x', linestyle='--', linewidth=pargs['linewidth'])\n",
    "        axs[idxes].tick_params(axis='y', which='major', direction='out', length=12, width=4, pad=3, labelsize=pargs['fontsizes'][2], left=True, right=True, labelleft=True, labelright=True)\n",
    "        axs[idxes].tick_params(axis='y', which='minor', direction='out', length=8, width=4, left=True, right=True, labelleft=False, labelright=False)\n",
    "\n",
    "    fig.text(0.5, -0.05, pargs['x_label'], ha='center', fontsize=pargs['fontsizes'][0])\n",
    "    fig.text(-0.05, 0.5, pargs['y_label'], va='center', rotation='vertical', fontsize=pargs['fontsizes'][0])\n",
    "    savefig('plot_accuracy_' + pargs['plot_name'] + '.svg', dpi=300, bbox_inches='tight')\n",
    "    close()"
   ]
  },
  {
   "cell_type": "code",
   "execution_count": 11,
   "metadata": {},
   "outputs": [],
   "source": [
    "# plot function\n",
    "\n",
    "def plot_db_thresholds(db_thresholds, pargs):\n",
    "    n_templates, n_backgrounds, n_models = db_thresholds.shape\n",
    "    n_rows, n_cols = pargs['n_rows'], pargs['n_cols']\n",
    "    fig, axs = subplots(nrows=n_rows, ncols=n_cols, figsize=pargs['figsize'], constrained_layout=True)\n",
    "    db_th_min = db_thresholds.min() - 0.1 * db_thresholds.ptp()\n",
    "    db_th_max = db_thresholds.max() + 0.1 * db_thresholds.ptp()\n",
    "    \n",
    "    for i in range(n_models):\n",
    "        idxes = i//n_rows, i%n_rows\n",
    "        axs[idxes].scatter(pargs['x_tick_labels'], db_thresholds[:,0,i], s=pargs['markersize'], marker=pargs['markers'][i], edgecolor=pargs['colors'][i], facecolor=\"none\", linewidths=pargs['linewidth'], label=pargs['legends'][i])\n",
    "        axs[idxes].scatter(pargs['x_tick_labels'], db_thresholds[:,1,i], s=pargs['markersize'], marker=pargs['markers'][i], edgecolor=pargs['colors'][i], facecolor=pargs['colors'][i], linewidths=pargs['linewidth'])\n",
    "        axs[idxes].set_xlim(-0.5, n_templates-0.5)\n",
    "        axs[idxes].set_ylim(db_th_min, db_th_max)\n",
    "        axs[idxes].legend(loc='best', fontsize=pargs['fontsizes'][1])\n",
    "        \n",
    "        axs[idxes].tick_params(axis='x', which='both', direction='out', length=0, width=0,pad=5, labelsize=pargs['fontsizes'][2], labelbottom=True, labeltop=False, grid_color='k', grid_alpha=1, grid_linewidth=1, grid_linestyle='--')\n",
    "        axs[idxes].grid(visible=True, which='minor', axis='x', linestyle='--', linewidth=pargs['linewidth'])\n",
    "        axs[idxes].tick_params(axis='y', which='major', direction='out', length=12, width=4, pad=3, labelsize=pargs['fontsizes'][2], left=True, right=True, labelleft=True, labelright=True)\n",
    "        axs[idxes].tick_params(axis='y', which='minor', direction='out', length=8, width=4, left=True, right=True, labelleft=False, labelright=False)\n",
    "\n",
    "    fig.text(0.5, -0.05, pargs['x_label'], ha='center', fontsize=pargs['fontsizes'][0])\n",
    "    fig.text(-0.05, 0.5, pargs['y_label'], va='center', rotation='vertical', fontsize=pargs['fontsizes'][0])\n",
    "    savefig('plot_accuracy_' + pargs['plot_name'] + '.svg', dpi=300, bbox_inches='tight')\n",
    "    close()"
   ]
  },
  {
   "cell_type": "code",
   "execution_count": 12,
   "metadata": {},
   "outputs": [],
   "source": [
    "# plot\n",
    "n_mod = len(models)\n",
    "n_row = 2\n",
    "n_col = math.ceil(n_mod / 2)\n",
    "pargs = {'plot_name': 'detection-1-f-noise-field', 'figsize': (20, 8), 'n_rows': n_row, 'n_cols': n_col, 'fontsizes': [36, 18, 15], 'x_label': 'Target', 'y_label': 'Threshold (dB)', 'x_tick_labels': ['rc', 'sine', 'tri', 'sqr'], 'legends': ['TM', 'WTM', 'RTM', 'WRTM'], 'markers': ['D', 'D', 'D', 'D'], 'colors': ['steelblue', 'firebrick', 'forestgreen', 'indigo'], 'markersize': 500, 'linewidth': 3}\n",
    "plot_db_thresholds(db_thresholds, pargs)"
   ]
  },
  {
   "cell_type": "code",
   "execution_count": 12,
   "metadata": {},
   "outputs": [
    {
     "data": {
      "text/plain": [
       "(4, 2, 4)"
      ]
     },
     "execution_count": 12,
     "metadata": {},
     "output_type": "execute_result"
    }
   ],
   "source": []
  }
 ],
 "metadata": {
  "interpreter": {
   "hash": "cdc6791e7efb8b2c509ab860fa200884e726e855328caba8b31c0d9c15abe09d"
  },
  "kernelspec": {
   "display_name": "Python 3.10.4 ('gpu-bayesee')",
   "language": "python",
   "name": "python3"
  },
  "language_info": {
   "codemirror_mode": {
    "name": "ipython",
    "version": 3
   },
   "file_extension": ".py",
   "mimetype": "text/x-python",
   "name": "python",
   "nbconvert_exporter": "python",
   "pygments_lexer": "ipython3",
   "version": "3.10.4"
  },
  "orig_nbformat": 4
 },
 "nbformat": 4,
 "nbformat_minor": 2
}
