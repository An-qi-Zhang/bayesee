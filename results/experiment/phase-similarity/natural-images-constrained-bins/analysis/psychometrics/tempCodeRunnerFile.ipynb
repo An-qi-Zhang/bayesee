blocks = ['ae01', 'ae02']
ae = Subject(blocks, plot_name='AE')
# fix block combination

folder= Path.cwd() / '../../data/original/'

file_paths = [folder / block / ('vars_Stimulus_' + block + '.mat') for block in blocks]
variables = ['targetAmplitude']
vars_name = ['amp']
ae.load_mats(file_paths, variables, vars_name)