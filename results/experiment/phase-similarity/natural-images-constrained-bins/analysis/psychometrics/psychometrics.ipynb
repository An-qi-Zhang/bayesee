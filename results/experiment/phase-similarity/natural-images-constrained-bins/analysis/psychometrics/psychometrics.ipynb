{
 "cells": [
  {
   "cell_type": "code",
   "execution_count": 2,
   "metadata": {},
   "outputs": [],
   "source": [
    "from pathlib import Path\n",
    "from bayesee.inout.subject import Subject"
   ]
  },
  {
   "cell_type": "code",
   "execution_count": 1,
   "metadata": {},
   "outputs": [
    {
     "ename": "NameError",
     "evalue": "name 'Subject' is not defined",
     "output_type": "error",
     "traceback": [
      "\u001b[1;31m---------------------------------------------------------------------------\u001b[0m",
      "\u001b[1;31mNameError\u001b[0m                                 Traceback (most recent call last)",
      "\u001b[1;32m~\\AppData\\Local\\Temp/ipykernel_14220/694752500.py\u001b[0m in \u001b[0;36m<module>\u001b[1;34m\u001b[0m\n\u001b[0;32m      1\u001b[0m \u001b[0msessions\u001b[0m \u001b[1;33m=\u001b[0m \u001b[1;33m[\u001b[0m\u001b[1;34m'ae_pr0'\u001b[0m\u001b[1;33m]\u001b[0m\u001b[1;33m\u001b[0m\u001b[1;33m\u001b[0m\u001b[0m\n\u001b[1;32m----> 2\u001b[1;33m \u001b[0mae\u001b[0m \u001b[1;33m=\u001b[0m \u001b[0mSubject\u001b[0m\u001b[1;33m(\u001b[0m\u001b[0msessions\u001b[0m\u001b[1;33m,\u001b[0m \u001b[0mplot_name\u001b[0m\u001b[1;33m=\u001b[0m\u001b[1;34m'AE'\u001b[0m\u001b[1;33m)\u001b[0m\u001b[1;33m\u001b[0m\u001b[1;33m\u001b[0m\u001b[0m\n\u001b[0m\u001b[0;32m      3\u001b[0m \u001b[0mfolder\u001b[0m\u001b[1;33m=\u001b[0m \u001b[1;34m'../../data/original/'\u001b[0m\u001b[1;33m\u001b[0m\u001b[1;33m\u001b[0m\u001b[0m\n\u001b[0;32m      4\u001b[0m \u001b[0mfile_paths\u001b[0m \u001b[1;33m=\u001b[0m \u001b[1;33m[\u001b[0m\u001b[0mfolder\u001b[0m \u001b[1;33m+\u001b[0m \u001b[1;34m'vars_Results_'\u001b[0m \u001b[1;33m+\u001b[0m \u001b[0msession\u001b[0m \u001b[1;33m+\u001b[0m \u001b[1;34m'.mat'\u001b[0m \u001b[1;32mfor\u001b[0m \u001b[0msession\u001b[0m \u001b[1;32min\u001b[0m \u001b[0msessions\u001b[0m\u001b[1;33m]\u001b[0m\u001b[1;33m\u001b[0m\u001b[1;33m\u001b[0m\u001b[0m\n\u001b[0;32m      5\u001b[0m \u001b[0mvariables\u001b[0m \u001b[1;33m=\u001b[0m \u001b[1;33m[\u001b[0m\u001b[1;34m'bCorrect'\u001b[0m\u001b[1;33m]\u001b[0m\u001b[1;33m\u001b[0m\u001b[1;33m\u001b[0m\u001b[0m\n",
      "\u001b[1;31mNameError\u001b[0m: name 'Subject' is not defined"
     ]
    }
   ],
   "source": [
    "blocks = ['ae_pr0']\n",
    "ae = Subject(blocks, plot_name='AE')\n",
    "\n",
    "folder= Path.cwd() / '../../data/original/'\n",
    "# folder= Path.cwd() / 'results/experiment/phase-similarity/natural-images-constrained-bins/data/original/'\n",
    "\n",
    "file_paths = [folder / block / ('vars_Stimulus_' + block + '.mat') for block in blocks]\n",
    "variables = ['targetAmplitude']\n",
    "vars_name = ['amp']\n",
    "ae.load_mats(file_paths, variables, vars_name)\n",
    "\n",
    "file_paths = [folder / block / ('vars_Results_' + block + '.mat') for block in blocks]\n",
    "variables = ['bCorrect']\n",
    "vars_name = ['b_acc']\n",
    "ae.load_mats(file_paths, variables, vars_name)\n",
    "\n",
    "\n",
    "pargs = {'figsize': (6, 7), 'fontsizes': [24, 18, 15], 'x_label': 'Amplitude', 'y_label': 'Percent Correct'}\n",
    "ae.plot_accuracy('amp', 'b_acc', pargs)"
   ]
  }
 ],
 "metadata": {
  "interpreter": {
   "hash": "30196c8decfad21500473574aaf69f0b43abe7f587ab43169f5cdb858772bbbd"
  },
  "kernelspec": {
   "display_name": "Python 3.10.4 ('bayesee')",
   "language": "python",
   "name": "python3"
  },
  "language_info": {
   "codemirror_mode": {
    "name": "ipython",
    "version": 3
   },
   "file_extension": ".py",
   "mimetype": "text/x-python",
   "name": "python",
   "nbconvert_exporter": "python",
   "pygments_lexer": "ipython3",
   "version": "3.10.4"
  },
  "orig_nbformat": 4
 },
 "nbformat": 4,
 "nbformat_minor": 2
}
