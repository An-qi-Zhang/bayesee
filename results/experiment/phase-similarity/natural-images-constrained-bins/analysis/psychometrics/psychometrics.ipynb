{
 "cells": [
  {
   "cell_type": "code",
   "execution_count": 3,
   "metadata": {},
   "outputs": [],
   "source": [
    "from pathlib import Path\n",
    "from bayesee.inout.subject import Subject"
   ]
  },
  {
   "cell_type": "code",
   "execution_count": 6,
   "metadata": {},
   "outputs": [],
   "source": [
    "blocks = ['ae01', 'ae02']\n",
    "ae = Subject(blocks, plot_name='AE')\n",
    "# fix block combination\n",
    "\n",
    "folder= Path.cwd() / '../../data/original/'\n",
    "# folder= Path.cwd() / 'results/experiment/phase-similarity/natural-images-constrained-bins/data/original/'\n",
    "\n",
    "file_paths = [folder / block / ('vars_Stimulus_' + block + '.mat') for block in blocks]\n",
    "variables = ['targetAmplitude']\n",
    "vars_name = ['amp']\n",
    "ae.load_mats(file_paths, variables, vars_name)\n",
    "\n",
    "file_paths = [folder / block / ('vars_Results_' + block + '.mat') for block in blocks]\n",
    "variables = ['bCorrect']\n",
    "vars_name = ['b_acc']\n",
    "ae.load_mats(file_paths, variables, vars_name)\n",
    "\n",
    "\n",
    "pargs = {'figsize': (20, 8), 'fontsizes': [24, 18, 15], 'x_label': 'Amplitude', 'y_label': 'Percent Correct'}\n",
    "ae.plot_accuracy('amp', 'b_acc', pargs)"
   ]
  }
 ],
 "metadata": {
  "interpreter": {
   "hash": "d802357fdd3ce5041355d9cb92c9cbc49e9706cfe003f522dbe55329eb8ccaf7"
  },
  "kernelspec": {
   "display_name": "Python 3.10.4 ('bayesee')",
   "language": "python",
   "name": "python3"
  },
  "language_info": {
   "codemirror_mode": {
    "name": "ipython",
    "version": 3
   },
   "file_extension": ".py",
   "mimetype": "text/x-python",
   "name": "python",
   "nbconvert_exporter": "python",
   "pygments_lexer": "ipython3",
   "version": "3.10.4"
  },
  "orig_nbformat": 4
 },
 "nbformat": 4,
 "nbformat_minor": 2
}
