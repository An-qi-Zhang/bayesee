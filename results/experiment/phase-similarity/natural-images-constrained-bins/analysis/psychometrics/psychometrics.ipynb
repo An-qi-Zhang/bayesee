{
 "cells": [
  {
   "cell_type": "code",
   "execution_count": 1,
   "metadata": {},
   "outputs": [],
   "source": [
    "from pathlib import Path\n",
    "from bayesee.inout.subject import Subject\n",
    "import numpy as np\n",
    "from matplotlib.pyplot import *"
   ]
  },
  {
   "cell_type": "code",
   "execution_count": 2,
   "metadata": {},
   "outputs": [],
   "source": [
    "blocks = ['ae01', 'ae02', 'az01', 'az02', 'hs01', 'hs02']\n",
    "ho = Subject(blocks, plot_name='AVE')\n",
    "\n",
    "folder = Path.cwd() / '../../data/original/'\n",
    "file_paths = [folder / block / ('vars_Stimulus_' + block + '.mat') for block in blocks]\n",
    "\n",
    "variables = ['targetAmplitude',  'tPresent', 'amplitudeSimilarity', 'spatialSimilarity']\n",
    "vars_name = ['amp', 't_pre', 'amp_sim', 'spat_sim']\n",
    "ho.load_mats(file_paths, variables, vars_name)\n",
    "\n",
    "file_paths = [folder / block / ('vars_Results_' + block + '.mat') for block in blocks]\n",
    "variables = ['bCorrect']\n",
    "vars_name = ['b_acc']\n",
    "ho.load_mats(file_paths, variables, vars_name)\n",
    "\n",
    "pargs = {'figsize': (20, 8), 'fontsizes': [24, 18, 15], 'x_label': 'Amplitude', 'y_label': 'Percent Correct'}\n",
    "ho.plot_accuracy('amp', 'b_acc', pargs)"
   ]
  },
  {
   "cell_type": "code",
   "execution_count": 4,
   "metadata": {},
   "outputs": [
    {
     "name": "stderr",
     "output_type": "stream",
     "text": [
      "c:\\users\\anqi\\documents\\bayesee\\bayesee\\inout\\subject.py:177: RuntimeWarning: invalid value encountered in power\n",
      "  axs[i].scatter(amp_fit, (norm.cdf(0.5*(amp_fit/a)**b-c)+1-norm.cdf(-0.5*(amp_fit/a)**b-c))/2.0, color='b')\n"
     ]
    }
   ],
   "source": [
    "file = Path.cwd() / '../../data/processed/' / ho.plot_name / ('curve_fit_' + ho.plot_name + '.npz')\n",
    "pargs = {'figsize': (24, 16), 'fontsizes': [24, 18, 15], 'x_label': 'Amplitude', 'y_label': 'Percent Correct'}\n",
    "alpha, beta, gamma = ho.bootstrap_curve('amp', 'b_acc', file)\n",
    "alpha, beta, gamma = ho.plot_psycho_fit('amp', 'b_acc', pargs, file)"
   ]
  },
  {
   "cell_type": "code",
   "execution_count": 5,
   "metadata": {},
   "outputs": [
    {
     "name": "stderr",
     "output_type": "stream",
     "text": [
      "c:\\Users\\anqi\\Miniconda3\\envs\\bayesee\\lib\\site-packages\\scipy\\optimize\\optimize.py:282: RuntimeWarning: Values in x were outside bounds during a minimize step, clipping to bounds\n",
      "  warnings.warn(\"Values in x were outside bounds during a \"\n"
     ]
    }
   ],
   "source": [
    "file = Path.cwd() / '../../data/processed/' / ho.plot_name / ('neg_ll_fit_' + ho.plot_name + '.npz')\n",
    "inits = [[alpha.mean(axis=1)[0], beta.mean(axis=1)[0], gamma.mean(axis=1)[0]], [alpha.mean(axis=1)[1], beta.mean(axis=1)[1], gamma.mean(axis=1)[1]]]\n",
    "pargs = {'figsize': (12, 8), 'fontsizes': [24, 18, 15], 'x_label': 'Amplitude', 'y_label': 'Percent Correct'}\n",
    "alpha, beta, gamma = ho.bootstrap_neg_ll('amp', 't_pre', 'b_acc', inits, file) # to override\n",
    "alpha, beta, gamma = ho.plot_psycho_fit('amp', 'b_acc', pargs, file)"
   ]
  },
  {
   "cell_type": "code",
   "execution_count": null,
   "metadata": {},
   "outputs": [],
   "source": []
  }
 ],
 "metadata": {
  "kernelspec": {
   "display_name": "Python 3.10.4 ('bayesee')",
   "language": "python",
   "name": "python3"
  },
  "language_info": {
   "codemirror_mode": {
    "name": "ipython",
    "version": 3
   },
   "file_extension": ".py",
   "mimetype": "text/x-python",
   "name": "python",
   "nbconvert_exporter": "python",
   "pygments_lexer": "ipython3",
   "version": "3.10.4"
  },
  "orig_nbformat": 4,
  "vscode": {
   "interpreter": {
    "hash": "d802357fdd3ce5041355d9cb92c9cbc49e9706cfe003f522dbe55329eb8ccaf7"
   }
  }
 },
 "nbformat": 4,
 "nbformat_minor": 2
}
