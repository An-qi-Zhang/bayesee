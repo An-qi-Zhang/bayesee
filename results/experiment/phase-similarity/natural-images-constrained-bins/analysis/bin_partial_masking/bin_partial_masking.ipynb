{
 "cells": [
  {
   "cell_type": "code",
   "execution_count": 1,
   "metadata": {},
   "outputs": [
    {
     "name": "stdout",
     "output_type": "stream",
     "text": [
      "The Zen of Python, by Tim Peters\n",
      "\n",
      "Beautiful is better than ugly.\n",
      "Explicit is better than implicit.\n",
      "Simple is better than complex.\n",
      "Complex is better than complicated.\n",
      "Flat is better than nested.\n",
      "Sparse is better than dense.\n",
      "Readability counts.\n",
      "Special cases aren't special enough to break the rules.\n",
      "Although practicality beats purity.\n",
      "Errors should never pass silently.\n",
      "Unless explicitly silenced.\n",
      "In the face of ambiguity, refuse the temptation to guess.\n",
      "There should be one-- and preferably only one --obvious way to do it.\n",
      "Although that way may not be obvious at first unless you're Dutch.\n",
      "Now is better than never.\n",
      "Although never is often better than *right* now.\n",
      "If the implementation is hard to explain, it's a bad idea.\n",
      "If the implementation is easy to explain, it may be a good idea.\n",
      "Namespaces are one honking great idea -- let's do more of those!\n"
     ]
    }
   ],
   "source": [
    "from pathlib import Path\n",
    "from bayesee.inout.subject import Subject\n",
    "import numpy as np\n",
    "from matplotlib.pyplot import *"
   ]
  },
  {
   "cell_type": "code",
   "execution_count": 2,
   "metadata": {},
   "outputs": [],
   "source": [
    "blocks = ['ae01', 'ae02', 'az01', 'az02','hs01', 'hs02']\n",
    "ho = Subject(blocks, plot_name='AVE')\n",
    "\n",
    "folder = Path.cwd() / '../../data/original/'\n",
    "file_paths = [folder / block / ('vars_Stimulus_' + block + '.mat') for block in blocks]\n",
    "\n",
    "variables = ['amplitudeSimilarity', 'spatialSimilarity', 'partialMaskingFactor']\n",
    "vars_name = ['amp_sim', 'spat_sim', 'pmf']\n",
    "ho.load_mats(file_paths, variables, vars_name)"
   ]
  },
  {
   "cell_type": "code",
   "execution_count": 3,
   "metadata": {},
   "outputs": [],
   "source": [
    "pargs = {'figsize': (12, 8), 'fontsizes': [24, 18, 15], 'x_label': 'Partial Masking Factor', 'y_label': 'Count', 'colors':['r', 'g', 'b', 'c', 'm', 'y', 'k'], 'hist_bins': 30}\n",
    "ho.bin_partial_masking_histogram('spat_sim', 5, 'pmf', pargs)"
   ]
  },
  {
   "cell_type": "code",
   "execution_count": 4,
   "metadata": {},
   "outputs": [],
   "source": [
    "pargs = {'figsize': (8,6), 'fontsizes': [36, 15, 12], 'x_label': 'Spatial Cosine Similarity', 'y_label': 'Partial Masking Factor', 'markers': ['o', 's', 'D', 'p', 'h', '*'], 'colors':['r', 'g', 'b', 'c', 'm', 'y', 'k'], 'legends': ['Low AmpSim', 'High AmpSim'], 'linewidth': 2, 'alpha': 0.7}\n",
    "ho.bin_partial_masking_quantiles('spat_sim', 5, 'pmf', pargs)"
   ]
  }
 ],
 "metadata": {
  "kernelspec": {
   "display_name": "Python 3.10.4 ('gpu-bayesee')",
   "language": "python",
   "name": "python3"
  },
  "language_info": {
   "codemirror_mode": {
    "name": "ipython",
    "version": 3
   },
   "file_extension": ".py",
   "mimetype": "text/x-python",
   "name": "python",
   "nbconvert_exporter": "python",
   "pygments_lexer": "ipython3",
   "version": "3.10.4"
  },
  "orig_nbformat": 4,
  "vscode": {
   "interpreter": {
    "hash": "cdc6791e7efb8b2c509ab860fa200884e726e855328caba8b31c0d9c15abe09d"
   }
  }
 },
 "nbformat": 4,
 "nbformat_minor": 2
}
