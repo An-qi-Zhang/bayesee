{
 "cells": [
  {
   "cell_type": "code",
   "execution_count": 1,
   "metadata": {},
   "outputs": [],
   "source": [
    "from pathlib import Path\n",
    "from bayesee.inout.subject import Subject\n",
    "import numpy as np\n",
    "from matplotlib.pyplot import *"
   ]
  },
  {
   "cell_type": "code",
   "execution_count": 2,
   "metadata": {},
   "outputs": [],
   "source": [
    "blocks = ['ae01', 'ae02']\n",
    "ho = Subject(blocks, plot_name='AE')\n",
    "# fix block combination\n",
    "\n",
    "folder = Path.cwd() / '../../data/original/'\n",
    "\n",
    "file_paths = [folder / block / ('vars_Stimulus_' + block + '.mat') for block in blocks]\n",
    "variables = ['targetAmplitude',  'tPresent', 'amplitudeSimilarity', 'spatialSimilarity']\n",
    "vars_name = ['amp', 't_pre', 'amp_sim', 'spat_sim']\n",
    "ho.load_mats(file_paths, variables, vars_name)\n",
    "\n",
    "file_paths = [folder / block / ('vars_Results_' + block + '.mat') for block in blocks]\n",
    "variables = ['bCorrect']\n",
    "vars_name = ['b_acc']\n",
    "ho.load_mats(file_paths, variables, vars_name)"
   ]
  },
  {
   "cell_type": "code",
   "execution_count": 3,
   "metadata": {},
   "outputs": [],
   "source": [
    "file = Path.cwd() / '../../data/processed/' / ho.plot_name / ('bin_psycho_fit_' + ho.plot_name + '.npz')\n",
    "inits = ([(4, 2, 0), (8, 3, 0)],\n",
    "         [(4, 4, 0), (8, 2, 0)],\n",
    "         [(4, 2, 0), (8, 1.5, 0)],\n",
    "         [(4, 2, 0), (8, 1.5, 0)],\n",
    "         [(4, 2, 0), (8, 1.5, 0)])\n",
    "\n",
    "pargs = {'figsize': (24, 16), 'fontsizes': [24, 18, 15], 'x_label': 'Amplitude', 'y_label': 'Percent Correct'}\n",
    "alpha, beta, gamma = ho.bin_bootstrap_neg_ll('spat_sim', 5, 'amp', 't_pre', 'b_acc', inits, file) # to override\n",
    "alpha, beta, gamma = ho.plot_bin_psycho_fit('spat_sim', 5, 'amp', 't_pre', 'b_acc', inits, pargs, file)"
   ]
  },
  {
   "cell_type": "code",
   "execution_count": 4,
   "metadata": {},
   "outputs": [],
   "source": [
    "pargs = {'figsize': (12, 8), 'fontsizes': [24, 18, 15], 'x_label': 'Spatial Similarity', 'y_label': 'Thresholds (dB)'}\n",
    "alpha, beta, gamma = ho.plot_bin_threshold('spat_sim', 5, 'amp', 't_pre', 'b_acc', inits, pargs, file)"
   ]
  }
 ],
 "metadata": {
  "kernelspec": {
   "display_name": "Python 3.10.4 ('bayesee')",
   "language": "python",
   "name": "python3"
  },
  "language_info": {
   "codemirror_mode": {
    "name": "ipython",
    "version": 3
   },
   "file_extension": ".py",
   "mimetype": "text/x-python",
   "name": "python",
   "nbconvert_exporter": "python",
   "pygments_lexer": "ipython3",
   "version": "3.10.4"
  },
  "orig_nbformat": 4,
  "vscode": {
   "interpreter": {
    "hash": "30196c8decfad21500473574aaf69f0b43abe7f587ab43169f5cdb858772bbbd"
   }
  }
 },
 "nbformat": 4,
 "nbformat_minor": 2
}
