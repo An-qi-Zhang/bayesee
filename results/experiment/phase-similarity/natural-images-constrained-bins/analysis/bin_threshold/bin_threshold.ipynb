{
 "cells": [
  {
   "cell_type": "code",
   "execution_count": null,
   "metadata": {},
   "outputs": [],
   "source": [
    "from pathlib import Path\n",
    "from bayesee.inout.subject import Subject\n",
    "import numpy as np\n",
    "from matplotlib.pyplot import *"
   ]
  },
  {
   "cell_type": "code",
   "execution_count": null,
   "metadata": {},
   "outputs": [],
   "source": [
    "blocks = ['ae01', 'ae02', 'az01', 'az02','hs01', 'hs02']\n",
    "ho = Subject(blocks, plot_name='AVE')\n",
    "\n",
    "folder = Path.cwd() / '../../data/original/'\n",
    "file_paths = [folder / block / ('vars_Stimulus_' + block + '.mat') for block in blocks]\n",
    "\n",
    "variables = ['targetAmplitude',  'tPresent', 'amplitudeSimilarity', 'spatialSimilarity']\n",
    "vars_name = ['amp', 't_pre', 'amp_sim', 'spat_sim']\n",
    "ho.load_mats(file_paths, variables, vars_name)\n",
    "\n",
    "file_paths = [folder / block / ('vars_Results_' + block + '.mat') for block in blocks]\n",
    "variables = ['bCorrect']\n",
    "vars_name = ['b_acc']\n",
    "ho.load_mats(file_paths, variables, vars_name)"
   ]
  },
  {
   "cell_type": "code",
   "execution_count": null,
   "metadata": {},
   "outputs": [],
   "source": [
    "file = Path.cwd() / '../../data/processed/' / ho.plot_name / ('bin_curve_fit_' + ho.plot_name + '.npz')\n",
    "pargs = {'figsize': (24, 16), 'fontsizes': [24, 18, 15], 'x_label': 'Amplitude', 'y_label': 'Percent Correct'}\n",
    "alpha, beta, gamma = ho.bin_bootstrap_curve('spat_sim', 5, 'amp', 'b_acc', file)\n",
    "alpha, beta, gamma = ho.plot_bin_fit('spat_sim', 5, 'amp', 'b_acc', pargs, file)\n",
    "\n",
    "pargs = {'figsize': (12, 8), 'fontsizes': [24, 18, 15], 'x_label': 'Spatial Similarity', 'y_label': 'Thresholds (dB)'}\n",
    "alpha, beta, gamma = ho.plot_bin_threshold('spat_sim', 5, 'amp', 'b_acc', pargs, file)"
   ]
  },
  {
   "cell_type": "code",
   "execution_count": null,
   "metadata": {},
   "outputs": [],
   "source": [
    "file = Path.cwd() / '../../data/processed/' / ho.plot_name / ('bin_neg_ll_fit_' + ho.plot_name + '.npz')\n",
    "\n",
    "a = alpha.mean(axis=1)\n",
    "b = beta.mean(axis=1)\n",
    "c = gamma.mean(axis=1)\n",
    "\n",
    "inits = [[[a[0,0], b[0,0], c[0,0]], [a[1,0], b[1,0], c[1,0]]],\n",
    "         [[a[0,1], b[0,1], c[0,1]], [a[0,1], b[0,1], c[0,1]]],\n",
    "         [[a[0,2], b[0,2], c[0,2]], [a[0,2], b[0,2], c[0,2]]],\n",
    "         [[a[0,3], b[0,3], c[0,3]], [a[0,3], b[0,3], c[0,3]]],\n",
    "         [[a[0,4], b[0,4], c[0,4]], [a[0,4], b[0,4], c[0,4]]]] # AZ\n",
    "\n",
    "pargs = {'figsize': (24, 16), 'fontsizes': [24, 18, 15], 'x_label': 'Amplitude', 'y_label': 'Percent Correct'}\n",
    "alpha, beta, gamma = ho.bin_bootstrap_neg_ll('spat_sim', 5, 'amp', 't_pre', 'b_acc', inits, file)\n",
    "alpha, beta, gamma = ho.plot_bin_fit('spat_sim', 5, 'amp', 'b_acc', pargs, file)\n",
    "\n",
    "pargs = {'figsize': (12, 8), 'fontsizes': [24, 18, 15], 'x_label': 'Spatial Similarity', 'y_label': 'Thresholds (dB)'}\n",
    "alpha, beta, gamma = ho.plot_bin_threshold('spat_sim', 5, 'amp', 'b_acc', pargs, file)"
   ]
  },
  {
   "cell_type": "code",
   "execution_count": null,
   "metadata": {},
   "outputs": [],
   "source": []
  }
 ],
 "metadata": {
  "kernelspec": {
   "display_name": "Python 3.10.4 ('gpu-bayesee')",
   "language": "python",
   "name": "python3"
  },
  "language_info": {
   "codemirror_mode": {
    "name": "ipython",
    "version": 3
   },
   "file_extension": ".py",
   "mimetype": "text/x-python",
   "name": "python",
   "nbconvert_exporter": "python",
   "pygments_lexer": "ipython3",
   "version": "3.10.4"
  },
  "orig_nbformat": 4,
  "vscode": {
   "interpreter": {
    "hash": "cdc6791e7efb8b2c509ab860fa200884e726e855328caba8b31c0d9c15abe09d"
   }
  }
 },
 "nbformat": 4,
 "nbformat_minor": 2
}
