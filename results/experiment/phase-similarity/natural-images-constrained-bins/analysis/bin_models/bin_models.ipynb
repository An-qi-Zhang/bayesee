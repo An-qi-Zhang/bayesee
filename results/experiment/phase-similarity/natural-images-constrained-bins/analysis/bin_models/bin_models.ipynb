{
 "cells": [
  {
   "cell_type": "code",
   "execution_count": 1,
   "metadata": {},
   "outputs": [
    {
     "name": "stdout",
     "output_type": "stream",
     "text": [
      "The Zen of Python, by Tim Peters\n",
      "\n",
      "Beautiful is better than ugly.\n",
      "Explicit is better than implicit.\n",
      "Simple is better than complex.\n",
      "Complex is better than complicated.\n",
      "Flat is better than nested.\n",
      "Sparse is better than dense.\n",
      "Readability counts.\n",
      "Special cases aren't special enough to break the rules.\n",
      "Although practicality beats purity.\n",
      "Errors should never pass silently.\n",
      "Unless explicitly silenced.\n",
      "In the face of ambiguity, refuse the temptation to guess.\n",
      "There should be one-- and preferably only one --obvious way to do it.\n",
      "Although that way may not be obvious at first unless you're Dutch.\n",
      "Now is better than never.\n",
      "Although never is often better than *right* now.\n",
      "If the implementation is hard to explain, it's a bad idea.\n",
      "If the implementation is easy to explain, it may be a good idea.\n",
      "Namespaces are one honking great idea -- let's do more of those!\n"
     ]
    }
   ],
   "source": [
    "from pathlib import Path\n",
    "from bayesee.inout.subject import Subject\n",
    "import numpy as np\n",
    "from matplotlib.pyplot import *"
   ]
  },
  {
   "cell_type": "code",
   "execution_count": 2,
   "metadata": {},
   "outputs": [],
   "source": [
    "blocks = ['ae01', 'ae02', 'az01', 'az02', 'hs01', 'hs02']\n",
    "mo = Subject(blocks, plot_name='AVE')\n",
    "\n",
    "folder = Path.cwd() / '../../data/original/'\n",
    "file_paths = [folder / block / ('vars_Stimulus_' + block + '.mat') for block in blocks]\n",
    "\n",
    "variables = ['targetAmplitude',  'tPresent', 'amplitudeSimilarity', 'spatialSimilarity']\n",
    "vars_name = ['amp', 't_pre', 'amp_sim', 'spat_sim']\n",
    "mo.load_mats(file_paths, variables, vars_name)\n",
    "\n",
    "file_paths = [folder / block / ('vars_Results_' + block + '.mat') for block in blocks]\n",
    "variables = ['bCorrect']\n",
    "vars_name = ['b_acc']\n",
    "mo.load_mats(file_paths, variables, vars_name)\n",
    "\n",
    "file_paths = [folder / block / ('vars_Simulation_' + block + '.mat') for block in blocks]\n",
    "variables = ['TMResponse', 'ETMResponse', 'UpmETMResponseBy8', 'UpmETMResponseBy16']\n",
    "vars_name = ['TM', 'ETM', 'UpmETM8', 'UpmETM16']\n",
    "mo.load_mats(file_paths, variables, vars_name)"
   ]
  },
  {
   "cell_type": "code",
   "execution_count": 3,
   "metadata": {},
   "outputs": [],
   "source": [
    "pargs = {'figsize': (18, 8), 'fontsizes': [24, 18, 15], 'x_label': 'Amplitude', 'y_label': 'dp', 'colors':['r', 'g', 'b', 'c', 'm', 'y', 'k']}\n",
    "mo.plot_models_bin_fit('spat_sim', 5, 'amp', 't_pre', ['TM', 'ETM', 'UpmETM8', 'UpmETM16'], pargs)\n",
    "pargs = {'figsize': (8, 8), 'fontsizes': [24, 18, 15], 'x_label': 'Spatial Similarity', 'y_label': 'Thresholds (dB)', 'colors':['r', 'g', 'b', 'c', 'm', 'y', 'k']}\n",
    "db_th = mo.plot_models_bin_threshold('spat_sim', 5, 'amp', 't_pre', ['TM', 'ETM', 'UpmETM8', 'UpmETM16'], pargs)"
   ]
  },
  {
   "cell_type": "code",
   "execution_count": null,
   "metadata": {},
   "outputs": [],
   "source": []
  }
 ],
 "metadata": {
  "kernelspec": {
   "display_name": "Python 3.10.4 ('gpu-bayesee')",
   "language": "python",
   "name": "python3"
  },
  "language_info": {
   "codemirror_mode": {
    "name": "ipython",
    "version": 3
   },
   "file_extension": ".py",
   "mimetype": "text/x-python",
   "name": "python",
   "nbconvert_exporter": "python",
   "pygments_lexer": "ipython3",
   "version": "3.10.4"
  },
  "orig_nbformat": 4,
  "vscode": {
   "interpreter": {
    "hash": "cdc6791e7efb8b2c509ab860fa200884e726e855328caba8b31c0d9c15abe09d"
   }
  }
 },
 "nbformat": 4,
 "nbformat_minor": 2
}
